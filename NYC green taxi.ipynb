{
 "cells": [
  {
   "cell_type": "markdown",
   "id": "27140b99",
   "metadata": {},
   "source": [
    "# Taxi Fare Prediction Study For NYC Green Taxi Using Regression"
   ]
  },
  {
   "cell_type": "markdown",
   "id": "d8a202a2",
   "metadata": {},
   "source": [
    "This is a real time data set."
   ]
  },
  {
   "cell_type": "markdown",
   "id": "cae24f83",
   "metadata": {},
   "source": [
    "# Problem Statement:\n",
    "\n",
    "The objective of this study is to analyze and predict the total fare of taxi trips based on historical data. The total fare, represented by the \"Total_amount\" field, is influenced by various factors such as trip distance, time of day, location, passenger count, and payment method. This study aims to understand the key drivers of fare amounts and develop a predictive model that can estimate the total fare accurately."
   ]
  },
  {
   "cell_type": "markdown",
   "id": "c66011b5",
   "metadata": {},
   "source": [
    "# Data Description:\n",
    "we have total of 69174 rows and 17 columns. you need to predict on the Total_Amount."
   ]
  },
  {
   "cell_type": "markdown",
   "id": "4a7077b6",
   "metadata": {},
   "source": [
    "\n",
    "#    Taxi Fare Prediction Study\n",
    "\n",
    "The dataset used for the taxi fare prediction study contains information related to individual taxi trips. The dataset is structured with the following fields:\n",
    "\n",
    "1. VendorID (Categorical): A code indicating the LPEP provider that provided the record. It takes on two values:\n",
    "    1: Creative Mobile Technologies, LLC\n",
    "    2: VeriFone Inc.\n",
    "\n",
    "2. lpep_pickup_datetime (DateTime): The date and time when the taxi meter was engaged, marking the start of the trip.\n",
    "\n",
    "3. lpep_dropoff_datetime (DateTime): The date and time when the taxi meter was disengaged, indicating the end of the trip.\n",
    "\n",
    "4. Passenger_count (Numeric): The number of passengers in the vehicle, entered by the driver.\n",
    "\n",
    "5. Trip_distance (Numeric): The elapsed trip distance in miles reported by the taxi meter.\n",
    "\n",
    "6. PULocationID (Categorical): TLC Taxi Zone in which the taxi meter was engaged, representing the pickup location.\n",
    "\n",
    "7. DOLocationID (Categorical): TLC Taxi Zone in which the taxi meter was disengaged, representing the drop-off location.\n",
    "\n",
    "8. RateCodeID (Categorical): The final rate code in effect at the end of the trip. It includes the following values:\n",
    "    1: Standard rate\n",
    "    2: JFK\n",
    "    3: Newark\n",
    "    4: Nassau or Westchester\n",
    "    5: Negotiated fare\n",
    "    6: Group ride\n",
    "9. Store_and_fwd_flag (Categorical): A flag indicating whether the trip record was stored in the vehicle's memory before being sent to the vendor. It can take one of two values:\n",
    "    \"Y\": Store and forward trip\n",
    "    \"N\": Not a store and forward trip\n",
    "10. Payment_type (Categorical): A numeric code signifying how the passenger paid for the trip, with values:\n",
    "\n",
    "    1: Credit card\n",
    "    2: Cash\n",
    "    3: No charge\n",
    "    4: Dispute\n",
    "    5: Unknown\n",
    "    6: Voided trip\n",
    "11. Fare_amount (Numeric): The time-and-distance fare calculated by the taxi meter.\n",
    "\n",
    "12. Extra (Numeric): Miscellaneous extras and surcharges, which may include rush hour and overnight charges.\n",
    "\n",
    "13. MTA_tax (Numeric): A $0.50 MTA tax automatically triggered based on the metered rate in use.\n",
    "\n",
    "14. Improvement_surcharge (Numeric): A $0.30 improvement surcharge assessed on hailed trips at the flag drop. This surcharge began being levied in 2015.\n",
    "\n",
    "15. Tip_amount (Numeric): This field is automatically populated for credit card tips. Cash tips are not included.\n",
    "\n",
    "16. Tolls_amount (Numeric): Total amount of all tolls paid during the trip.\n",
    "\n",
    "17. Total_amount (Numeric): The total amount charged to passengers, which does not include cash tips."
   ]
  },
  {
   "cell_type": "markdown",
   "id": "e14e2afe",
   "metadata": {},
   "source": [
    "# Performance metric\n",
    "1. Root Mean Squared Error (RMSE): RMSE is the square root of the MSE and provides an interpretable measure of prediction error in the same units as the target variable. It is more interpretable than MSE.\n",
    "\n",
    "2. R-squared (R2): R-squared measures the proportion of the variance in the target variable that is predictable from the independent variables. It ranges from 0 to 1, where a higher R-squared value indicates a better fit of the model to the data."
   ]
  },
  {
   "cell_type": "code",
   "execution_count": 1,
   "id": "a7f9b4a8",
   "metadata": {},
   "outputs": [],
   "source": [
    "import io\n",
    "import os\n",
    "import seaborn as sns\n",
    "import pandas as pd\n",
    "import numpy as np\n",
    "import matplotlib.pyplot as plt"
   ]
  },
  {
   "cell_type": "code",
   "execution_count": 2,
   "id": "d77fcb18",
   "metadata": {},
   "outputs": [
    {
     "name": "stdout",
     "output_type": "stream",
     "text": [
      "D:\\Green Taxi Capstone Project\n"
     ]
    }
   ],
   "source": [
    "# extracting the path to jupyter \n",
    "%cd \"D:\\Green Taxi Capstone Project\""
   ]
  },
  {
   "cell_type": "code",
   "execution_count": 3,
   "id": "426b7e50",
   "metadata": {},
   "outputs": [
    {
     "name": "stdout",
     "output_type": "stream",
     "text": [
      "Requirement already satisfied: pyarrow in c:\\users\\hp\\anaconda3\\lib\\site-packages (11.0.0)\n",
      "Requirement already satisfied: numpy>=1.16.6 in c:\\users\\hp\\anaconda3\\lib\\site-packages (from pyarrow) (1.24.3)\n"
     ]
    }
   ],
   "source": [
    "!pip install pyarrow\n",
    "#arrow is the library to access parquet files"
   ]
  },
  {
   "cell_type": "code",
   "execution_count": 4,
   "id": "1582dae6",
   "metadata": {},
   "outputs": [],
   "source": [
    "#read_parquet is to read the parquet files\n",
    "greentaxi=pd.read_parquet('green_tripdata_2023-05.parquet',engine='pyarrow')"
   ]
  },
  {
   "cell_type": "code",
   "execution_count": 5,
   "id": "4a1bd7f7",
   "metadata": {},
   "outputs": [
    {
     "data": {
      "text/html": [
       "<div>\n",
       "<style scoped>\n",
       "    .dataframe tbody tr th:only-of-type {\n",
       "        vertical-align: middle;\n",
       "    }\n",
       "\n",
       "    .dataframe tbody tr th {\n",
       "        vertical-align: top;\n",
       "    }\n",
       "\n",
       "    .dataframe thead th {\n",
       "        text-align: right;\n",
       "    }\n",
       "</style>\n",
       "<table border=\"1\" class=\"dataframe\">\n",
       "  <thead>\n",
       "    <tr style=\"text-align: right;\">\n",
       "      <th></th>\n",
       "      <th>VendorID</th>\n",
       "      <th>lpep_pickup_datetime</th>\n",
       "      <th>lpep_dropoff_datetime</th>\n",
       "      <th>store_and_fwd_flag</th>\n",
       "      <th>RatecodeID</th>\n",
       "      <th>PULocationID</th>\n",
       "      <th>DOLocationID</th>\n",
       "      <th>passenger_count</th>\n",
       "      <th>trip_distance</th>\n",
       "      <th>fare_amount</th>\n",
       "      <th>extra</th>\n",
       "      <th>mta_tax</th>\n",
       "      <th>tip_amount</th>\n",
       "      <th>tolls_amount</th>\n",
       "      <th>ehail_fee</th>\n",
       "      <th>improvement_surcharge</th>\n",
       "      <th>total_amount</th>\n",
       "      <th>payment_type</th>\n",
       "      <th>trip_type</th>\n",
       "      <th>congestion_surcharge</th>\n",
       "    </tr>\n",
       "  </thead>\n",
       "  <tbody>\n",
       "    <tr>\n",
       "      <th>0</th>\n",
       "      <td>2</td>\n",
       "      <td>2023-05-01 00:52:10</td>\n",
       "      <td>2023-05-01 01:05:26</td>\n",
       "      <td>N</td>\n",
       "      <td>1.0</td>\n",
       "      <td>244</td>\n",
       "      <td>213</td>\n",
       "      <td>1.0</td>\n",
       "      <td>6.99</td>\n",
       "      <td>28.90</td>\n",
       "      <td>1.0</td>\n",
       "      <td>0.5</td>\n",
       "      <td>0.00</td>\n",
       "      <td>0.00</td>\n",
       "      <td>NaN</td>\n",
       "      <td>1.0</td>\n",
       "      <td>31.40</td>\n",
       "      <td>1.0</td>\n",
       "      <td>1.0</td>\n",
       "      <td>0.00</td>\n",
       "    </tr>\n",
       "    <tr>\n",
       "      <th>1</th>\n",
       "      <td>2</td>\n",
       "      <td>2023-05-01 00:29:49</td>\n",
       "      <td>2023-05-01 00:50:11</td>\n",
       "      <td>N</td>\n",
       "      <td>1.0</td>\n",
       "      <td>33</td>\n",
       "      <td>100</td>\n",
       "      <td>1.0</td>\n",
       "      <td>6.60</td>\n",
       "      <td>30.30</td>\n",
       "      <td>1.0</td>\n",
       "      <td>0.5</td>\n",
       "      <td>5.00</td>\n",
       "      <td>0.00</td>\n",
       "      <td>NaN</td>\n",
       "      <td>1.0</td>\n",
       "      <td>40.55</td>\n",
       "      <td>1.0</td>\n",
       "      <td>1.0</td>\n",
       "      <td>2.75</td>\n",
       "    </tr>\n",
       "    <tr>\n",
       "      <th>2</th>\n",
       "      <td>2</td>\n",
       "      <td>2023-05-01 00:25:19</td>\n",
       "      <td>2023-05-01 00:32:12</td>\n",
       "      <td>N</td>\n",
       "      <td>1.0</td>\n",
       "      <td>244</td>\n",
       "      <td>244</td>\n",
       "      <td>1.0</td>\n",
       "      <td>1.34</td>\n",
       "      <td>9.30</td>\n",
       "      <td>1.0</td>\n",
       "      <td>0.5</td>\n",
       "      <td>2.36</td>\n",
       "      <td>0.00</td>\n",
       "      <td>NaN</td>\n",
       "      <td>1.0</td>\n",
       "      <td>14.16</td>\n",
       "      <td>1.0</td>\n",
       "      <td>1.0</td>\n",
       "      <td>0.00</td>\n",
       "    </tr>\n",
       "    <tr>\n",
       "      <th>3</th>\n",
       "      <td>2</td>\n",
       "      <td>2023-05-01 00:07:06</td>\n",
       "      <td>2023-05-01 00:27:33</td>\n",
       "      <td>N</td>\n",
       "      <td>5.0</td>\n",
       "      <td>82</td>\n",
       "      <td>75</td>\n",
       "      <td>1.0</td>\n",
       "      <td>7.79</td>\n",
       "      <td>22.73</td>\n",
       "      <td>0.0</td>\n",
       "      <td>0.0</td>\n",
       "      <td>2.29</td>\n",
       "      <td>6.55</td>\n",
       "      <td>NaN</td>\n",
       "      <td>1.0</td>\n",
       "      <td>32.57</td>\n",
       "      <td>1.0</td>\n",
       "      <td>1.0</td>\n",
       "      <td>0.00</td>\n",
       "    </tr>\n",
       "    <tr>\n",
       "      <th>4</th>\n",
       "      <td>2</td>\n",
       "      <td>2023-05-01 00:43:31</td>\n",
       "      <td>2023-05-01 00:46:59</td>\n",
       "      <td>N</td>\n",
       "      <td>1.0</td>\n",
       "      <td>69</td>\n",
       "      <td>169</td>\n",
       "      <td>1.0</td>\n",
       "      <td>0.70</td>\n",
       "      <td>6.50</td>\n",
       "      <td>1.0</td>\n",
       "      <td>0.5</td>\n",
       "      <td>0.00</td>\n",
       "      <td>0.00</td>\n",
       "      <td>NaN</td>\n",
       "      <td>1.0</td>\n",
       "      <td>9.00</td>\n",
       "      <td>2.0</td>\n",
       "      <td>1.0</td>\n",
       "      <td>0.00</td>\n",
       "    </tr>\n",
       "  </tbody>\n",
       "</table>\n",
       "</div>"
      ],
      "text/plain": [
       "   VendorID lpep_pickup_datetime lpep_dropoff_datetime store_and_fwd_flag  \\\n",
       "0         2  2023-05-01 00:52:10   2023-05-01 01:05:26                  N   \n",
       "1         2  2023-05-01 00:29:49   2023-05-01 00:50:11                  N   \n",
       "2         2  2023-05-01 00:25:19   2023-05-01 00:32:12                  N   \n",
       "3         2  2023-05-01 00:07:06   2023-05-01 00:27:33                  N   \n",
       "4         2  2023-05-01 00:43:31   2023-05-01 00:46:59                  N   \n",
       "\n",
       "   RatecodeID  PULocationID  DOLocationID  passenger_count  trip_distance  \\\n",
       "0         1.0           244           213              1.0           6.99   \n",
       "1         1.0            33           100              1.0           6.60   \n",
       "2         1.0           244           244              1.0           1.34   \n",
       "3         5.0            82            75              1.0           7.79   \n",
       "4         1.0            69           169              1.0           0.70   \n",
       "\n",
       "   fare_amount  extra  mta_tax  tip_amount  tolls_amount  ehail_fee  \\\n",
       "0        28.90    1.0      0.5        0.00          0.00        NaN   \n",
       "1        30.30    1.0      0.5        5.00          0.00        NaN   \n",
       "2         9.30    1.0      0.5        2.36          0.00        NaN   \n",
       "3        22.73    0.0      0.0        2.29          6.55        NaN   \n",
       "4         6.50    1.0      0.5        0.00          0.00        NaN   \n",
       "\n",
       "   improvement_surcharge  total_amount  payment_type  trip_type  \\\n",
       "0                    1.0         31.40           1.0        1.0   \n",
       "1                    1.0         40.55           1.0        1.0   \n",
       "2                    1.0         14.16           1.0        1.0   \n",
       "3                    1.0         32.57           1.0        1.0   \n",
       "4                    1.0          9.00           2.0        1.0   \n",
       "\n",
       "   congestion_surcharge  \n",
       "0                  0.00  \n",
       "1                  2.75  \n",
       "2                  0.00  \n",
       "3                  0.00  \n",
       "4                  0.00  "
      ]
     },
     "execution_count": 5,
     "metadata": {},
     "output_type": "execute_result"
    }
   ],
   "source": [
    "# head() function is access or to show the row and columns in the file\n",
    "# by deafault head() gives first 5 rows\n",
    "greentaxi.head()"
   ]
  },
  {
   "cell_type": "code",
   "execution_count": 6,
   "id": "6fa3c84d",
   "metadata": {},
   "outputs": [
    {
     "data": {
      "text/html": [
       "<div>\n",
       "<style scoped>\n",
       "    .dataframe tbody tr th:only-of-type {\n",
       "        vertical-align: middle;\n",
       "    }\n",
       "\n",
       "    .dataframe tbody tr th {\n",
       "        vertical-align: top;\n",
       "    }\n",
       "\n",
       "    .dataframe thead th {\n",
       "        text-align: right;\n",
       "    }\n",
       "</style>\n",
       "<table border=\"1\" class=\"dataframe\">\n",
       "  <thead>\n",
       "    <tr style=\"text-align: right;\">\n",
       "      <th></th>\n",
       "      <th>VendorID</th>\n",
       "      <th>lpep_pickup_datetime</th>\n",
       "      <th>lpep_dropoff_datetime</th>\n",
       "      <th>store_and_fwd_flag</th>\n",
       "      <th>RatecodeID</th>\n",
       "      <th>PULocationID</th>\n",
       "      <th>DOLocationID</th>\n",
       "      <th>passenger_count</th>\n",
       "      <th>trip_distance</th>\n",
       "      <th>fare_amount</th>\n",
       "      <th>extra</th>\n",
       "      <th>mta_tax</th>\n",
       "      <th>tip_amount</th>\n",
       "      <th>tolls_amount</th>\n",
       "      <th>ehail_fee</th>\n",
       "      <th>improvement_surcharge</th>\n",
       "      <th>total_amount</th>\n",
       "      <th>payment_type</th>\n",
       "      <th>trip_type</th>\n",
       "      <th>congestion_surcharge</th>\n",
       "    </tr>\n",
       "  </thead>\n",
       "  <tbody>\n",
       "    <tr>\n",
       "      <th>69169</th>\n",
       "      <td>2</td>\n",
       "      <td>2023-05-31 23:45:00</td>\n",
       "      <td>2023-06-01 00:04:00</td>\n",
       "      <td>None</td>\n",
       "      <td>NaN</td>\n",
       "      <td>106</td>\n",
       "      <td>225</td>\n",
       "      <td>NaN</td>\n",
       "      <td>4.39</td>\n",
       "      <td>21.44</td>\n",
       "      <td>0.0</td>\n",
       "      <td>0.0</td>\n",
       "      <td>0.00</td>\n",
       "      <td>0.0</td>\n",
       "      <td>NaN</td>\n",
       "      <td>1.0</td>\n",
       "      <td>22.44</td>\n",
       "      <td>NaN</td>\n",
       "      <td>NaN</td>\n",
       "      <td>NaN</td>\n",
       "    </tr>\n",
       "    <tr>\n",
       "      <th>69170</th>\n",
       "      <td>2</td>\n",
       "      <td>2023-05-31 23:59:00</td>\n",
       "      <td>2023-06-01 00:22:00</td>\n",
       "      <td>None</td>\n",
       "      <td>NaN</td>\n",
       "      <td>17</td>\n",
       "      <td>133</td>\n",
       "      <td>NaN</td>\n",
       "      <td>5.06</td>\n",
       "      <td>19.03</td>\n",
       "      <td>0.0</td>\n",
       "      <td>0.0</td>\n",
       "      <td>4.01</td>\n",
       "      <td>0.0</td>\n",
       "      <td>NaN</td>\n",
       "      <td>1.0</td>\n",
       "      <td>24.04</td>\n",
       "      <td>NaN</td>\n",
       "      <td>NaN</td>\n",
       "      <td>NaN</td>\n",
       "    </tr>\n",
       "    <tr>\n",
       "      <th>69171</th>\n",
       "      <td>2</td>\n",
       "      <td>2023-05-31 23:39:00</td>\n",
       "      <td>2023-05-31 23:55:00</td>\n",
       "      <td>None</td>\n",
       "      <td>NaN</td>\n",
       "      <td>66</td>\n",
       "      <td>189</td>\n",
       "      <td>NaN</td>\n",
       "      <td>2.18</td>\n",
       "      <td>15.31</td>\n",
       "      <td>0.0</td>\n",
       "      <td>0.0</td>\n",
       "      <td>3.26</td>\n",
       "      <td>0.0</td>\n",
       "      <td>NaN</td>\n",
       "      <td>1.0</td>\n",
       "      <td>19.57</td>\n",
       "      <td>NaN</td>\n",
       "      <td>NaN</td>\n",
       "      <td>NaN</td>\n",
       "    </tr>\n",
       "    <tr>\n",
       "      <th>69172</th>\n",
       "      <td>2</td>\n",
       "      <td>2023-05-31 23:42:00</td>\n",
       "      <td>2023-06-01 00:11:00</td>\n",
       "      <td>None</td>\n",
       "      <td>NaN</td>\n",
       "      <td>129</td>\n",
       "      <td>62</td>\n",
       "      <td>NaN</td>\n",
       "      <td>8.68</td>\n",
       "      <td>31.83</td>\n",
       "      <td>0.0</td>\n",
       "      <td>0.0</td>\n",
       "      <td>6.57</td>\n",
       "      <td>0.0</td>\n",
       "      <td>NaN</td>\n",
       "      <td>1.0</td>\n",
       "      <td>39.40</td>\n",
       "      <td>NaN</td>\n",
       "      <td>NaN</td>\n",
       "      <td>NaN</td>\n",
       "    </tr>\n",
       "    <tr>\n",
       "      <th>69173</th>\n",
       "      <td>2</td>\n",
       "      <td>2023-05-31 23:10:00</td>\n",
       "      <td>2023-05-31 23:24:00</td>\n",
       "      <td>None</td>\n",
       "      <td>NaN</td>\n",
       "      <td>61</td>\n",
       "      <td>37</td>\n",
       "      <td>NaN</td>\n",
       "      <td>2.32</td>\n",
       "      <td>12.91</td>\n",
       "      <td>0.0</td>\n",
       "      <td>0.0</td>\n",
       "      <td>2.78</td>\n",
       "      <td>0.0</td>\n",
       "      <td>NaN</td>\n",
       "      <td>1.0</td>\n",
       "      <td>16.69</td>\n",
       "      <td>NaN</td>\n",
       "      <td>NaN</td>\n",
       "      <td>NaN</td>\n",
       "    </tr>\n",
       "  </tbody>\n",
       "</table>\n",
       "</div>"
      ],
      "text/plain": [
       "       VendorID lpep_pickup_datetime lpep_dropoff_datetime store_and_fwd_flag  \\\n",
       "69169         2  2023-05-31 23:45:00   2023-06-01 00:04:00               None   \n",
       "69170         2  2023-05-31 23:59:00   2023-06-01 00:22:00               None   \n",
       "69171         2  2023-05-31 23:39:00   2023-05-31 23:55:00               None   \n",
       "69172         2  2023-05-31 23:42:00   2023-06-01 00:11:00               None   \n",
       "69173         2  2023-05-31 23:10:00   2023-05-31 23:24:00               None   \n",
       "\n",
       "       RatecodeID  PULocationID  DOLocationID  passenger_count  trip_distance  \\\n",
       "69169         NaN           106           225              NaN           4.39   \n",
       "69170         NaN            17           133              NaN           5.06   \n",
       "69171         NaN            66           189              NaN           2.18   \n",
       "69172         NaN           129            62              NaN           8.68   \n",
       "69173         NaN            61            37              NaN           2.32   \n",
       "\n",
       "       fare_amount  extra  mta_tax  tip_amount  tolls_amount  ehail_fee  \\\n",
       "69169        21.44    0.0      0.0        0.00           0.0        NaN   \n",
       "69170        19.03    0.0      0.0        4.01           0.0        NaN   \n",
       "69171        15.31    0.0      0.0        3.26           0.0        NaN   \n",
       "69172        31.83    0.0      0.0        6.57           0.0        NaN   \n",
       "69173        12.91    0.0      0.0        2.78           0.0        NaN   \n",
       "\n",
       "       improvement_surcharge  total_amount  payment_type  trip_type  \\\n",
       "69169                    1.0         22.44           NaN        NaN   \n",
       "69170                    1.0         24.04           NaN        NaN   \n",
       "69171                    1.0         19.57           NaN        NaN   \n",
       "69172                    1.0         39.40           NaN        NaN   \n",
       "69173                    1.0         16.69           NaN        NaN   \n",
       "\n",
       "       congestion_surcharge  \n",
       "69169                   NaN  \n",
       "69170                   NaN  \n",
       "69171                   NaN  \n",
       "69172                   NaN  \n",
       "69173                   NaN  "
      ]
     },
     "execution_count": 6,
     "metadata": {},
     "output_type": "execute_result"
    }
   ],
   "source": [
    "# tail() function is access or to show the row and columns in the file\n",
    "# by deafault tail() gives last 5 rows\n",
    "greentaxi.tail()"
   ]
  },
  {
   "cell_type": "code",
   "execution_count": 7,
   "id": "53f9aeba",
   "metadata": {},
   "outputs": [
    {
     "name": "stdout",
     "output_type": "stream",
     "text": [
      "<class 'pandas.core.frame.DataFrame'>\n",
      "RangeIndex: 69174 entries, 0 to 69173\n",
      "Data columns (total 20 columns):\n",
      " #   Column                 Non-Null Count  Dtype         \n",
      "---  ------                 --------------  -----         \n",
      " 0   VendorID               69174 non-null  int32         \n",
      " 1   lpep_pickup_datetime   69174 non-null  datetime64[ns]\n",
      " 2   lpep_dropoff_datetime  69174 non-null  datetime64[ns]\n",
      " 3   store_and_fwd_flag     64442 non-null  object        \n",
      " 4   RatecodeID             64442 non-null  float64       \n",
      " 5   PULocationID           69174 non-null  int32         \n",
      " 6   DOLocationID           69174 non-null  int32         \n",
      " 7   passenger_count        64442 non-null  float64       \n",
      " 8   trip_distance          69174 non-null  float64       \n",
      " 9   fare_amount            69174 non-null  float64       \n",
      " 10  extra                  69174 non-null  float64       \n",
      " 11  mta_tax                69174 non-null  float64       \n",
      " 12  tip_amount             69174 non-null  float64       \n",
      " 13  tolls_amount           69174 non-null  float64       \n",
      " 14  ehail_fee              0 non-null      float64       \n",
      " 15  improvement_surcharge  69174 non-null  float64       \n",
      " 16  total_amount           69174 non-null  float64       \n",
      " 17  payment_type           64442 non-null  float64       \n",
      " 18  trip_type              64439 non-null  float64       \n",
      " 19  congestion_surcharge   64442 non-null  float64       \n",
      "dtypes: datetime64[ns](2), float64(14), int32(3), object(1)\n",
      "memory usage: 9.8+ MB\n"
     ]
    }
   ],
   "source": [
    "#info() is used to get the total information about the file like no of rows and columns\n",
    "greentaxi.info()"
   ]
  },
  {
   "cell_type": "code",
   "execution_count": 8,
   "id": "2655cdc5",
   "metadata": {},
   "outputs": [],
   "source": [
    "#Droping the ehail_fee column because it has no values it is a null column\n",
    "greentaxi=greentaxi.drop(['ehail_fee'],axis=1)# drop null column"
   ]
  },
  {
   "cell_type": "code",
   "execution_count": 9,
   "id": "bccdc598",
   "metadata": {},
   "outputs": [],
   "source": [
    "#create a new column called \"trip_duration\"\n",
    "greentaxi['trip_duration']=greentaxi.lpep_dropoff_datetime-greentaxi.lpep_pickup_datetime"
   ]
  },
  {
   "cell_type": "code",
   "execution_count": 10,
   "id": "5683e54d",
   "metadata": {},
   "outputs": [
    {
     "data": {
      "text/plain": [
       "0   0 days 00:13:16\n",
       "1   0 days 00:20:22\n",
       "2   0 days 00:06:53\n",
       "3   0 days 00:20:27\n",
       "4   0 days 00:03:28\n",
       "Name: trip_duration, dtype: timedelta64[ns]"
      ]
     },
     "execution_count": 10,
     "metadata": {},
     "output_type": "execute_result"
    }
   ],
   "source": [
    "greentaxi.trip_duration.head()"
   ]
  },
  {
   "cell_type": "code",
   "execution_count": 11,
   "id": "58a68744",
   "metadata": {},
   "outputs": [],
   "source": [
    "#dt refers to datetime in pandas library\n",
    "greentaxi.trip_duration=greentaxi.trip_duration.dt.total_seconds()/60"
   ]
  },
  {
   "cell_type": "code",
   "execution_count": 12,
   "id": "35123cbf",
   "metadata": {},
   "outputs": [
    {
     "data": {
      "text/plain": [
       "0    13.266667\n",
       "1    20.366667\n",
       "2     6.883333\n",
       "3    20.450000\n",
       "4     3.466667\n",
       "Name: trip_duration, dtype: float64"
      ]
     },
     "execution_count": 12,
     "metadata": {},
     "output_type": "execute_result"
    }
   ],
   "source": [
    "greentaxi.trip_duration.head()"
   ]
  },
  {
   "cell_type": "code",
   "execution_count": 13,
   "id": "ead7cc88",
   "metadata": {},
   "outputs": [],
   "source": [
    "# Extract new varible \"weekday\"\n",
    "greentaxi['weekday']=greentaxi.lpep_dropoff_datetime.dt.weekday"
   ]
  },
  {
   "cell_type": "code",
   "execution_count": 14,
   "id": "1c5dfc63",
   "metadata": {},
   "outputs": [
    {
     "data": {
      "text/plain": [
       "weekday\n",
       "0    10934\n",
       "1    11062\n",
       "2    11980\n",
       "3    10085\n",
       "4     9737\n",
       "5     8144\n",
       "6     7232\n",
       "Name: count, dtype: int64"
      ]
     },
     "execution_count": 14,
     "metadata": {},
     "output_type": "execute_result"
    }
   ],
   "source": [
    "greentaxi.weekday.value_counts(dropna=False).sort_index(ascending=True)\n",
    "#by default 0 is monday and 6 is sunday"
   ]
  },
  {
   "cell_type": "code",
   "execution_count": 15,
   "id": "123a167b",
   "metadata": {},
   "outputs": [],
   "source": [
    "#create a variable called 'hourofday'\n",
    "greentaxi['hourofday']=greentaxi.lpep_dropoff_datetime.dt.hour"
   ]
  },
  {
   "cell_type": "code",
   "execution_count": 16,
   "id": "105b5b2c",
   "metadata": {},
   "outputs": [
    {
     "data": {
      "text/plain": [
       "hourofday\n",
       "23    1896\n",
       "22    2461\n",
       "21    2999\n",
       "20    3458\n",
       "19    4707\n",
       "18    5497\n",
       "17    5260\n",
       "16    4986\n",
       "15    4693\n",
       "14    4140\n",
       "13    3676\n",
       "12    3893\n",
       "11    3729\n",
       "10    3548\n",
       "9     3620\n",
       "8     3088\n",
       "7     2376\n",
       "6      915\n",
       "5      414\n",
       "4      439\n",
       "3      524\n",
       "2      645\n",
       "1      873\n",
       "0     1337\n",
       "Name: count, dtype: int64"
      ]
     },
     "execution_count": 16,
     "metadata": {},
     "output_type": "execute_result"
    }
   ],
   "source": [
    "greentaxi.hourofday.value_counts(dropna=False).sort_index(ascending=False)"
   ]
  },
  {
   "cell_type": "code",
   "execution_count": 17,
   "id": "9e6ddc84",
   "metadata": {},
   "outputs": [
    {
     "name": "stdout",
     "output_type": "stream",
     "text": [
      "<class 'pandas.core.frame.DataFrame'>\n",
      "RangeIndex: 69174 entries, 0 to 69173\n",
      "Data columns (total 22 columns):\n",
      " #   Column                 Non-Null Count  Dtype         \n",
      "---  ------                 --------------  -----         \n",
      " 0   VendorID               69174 non-null  int32         \n",
      " 1   lpep_pickup_datetime   69174 non-null  datetime64[ns]\n",
      " 2   lpep_dropoff_datetime  69174 non-null  datetime64[ns]\n",
      " 3   store_and_fwd_flag     64442 non-null  object        \n",
      " 4   RatecodeID             64442 non-null  float64       \n",
      " 5   PULocationID           69174 non-null  int32         \n",
      " 6   DOLocationID           69174 non-null  int32         \n",
      " 7   passenger_count        64442 non-null  float64       \n",
      " 8   trip_distance          69174 non-null  float64       \n",
      " 9   fare_amount            69174 non-null  float64       \n",
      " 10  extra                  69174 non-null  float64       \n",
      " 11  mta_tax                69174 non-null  float64       \n",
      " 12  tip_amount             69174 non-null  float64       \n",
      " 13  tolls_amount           69174 non-null  float64       \n",
      " 14  improvement_surcharge  69174 non-null  float64       \n",
      " 15  total_amount           69174 non-null  float64       \n",
      " 16  payment_type           64442 non-null  float64       \n",
      " 17  trip_type              64439 non-null  float64       \n",
      " 18  congestion_surcharge   64442 non-null  float64       \n",
      " 19  trip_duration          69174 non-null  float64       \n",
      " 20  weekday                69174 non-null  int32         \n",
      " 21  hourofday              69174 non-null  int32         \n",
      "dtypes: datetime64[ns](2), float64(14), int32(5), object(1)\n",
      "memory usage: 10.3+ MB\n"
     ]
    }
   ],
   "source": [
    "greentaxi.info()"
   ]
  },
  {
   "cell_type": "markdown",
   "id": "023cb4ec",
   "metadata": {},
   "source": [
    "# Checking the null values"
   ]
  },
  {
   "cell_type": "code",
   "execution_count": 18,
   "id": "7478b1fa",
   "metadata": {},
   "outputs": [
    {
     "data": {
      "text/plain": [
       "trip_type                4735\n",
       "store_and_fwd_flag       4732\n",
       "RatecodeID               4732\n",
       "congestion_surcharge     4732\n",
       "passenger_count          4732\n",
       "payment_type             4732\n",
       "VendorID                    0\n",
       "tolls_amount                0\n",
       "weekday                     0\n",
       "trip_duration               0\n",
       "total_amount                0\n",
       "improvement_surcharge       0\n",
       "mta_tax                     0\n",
       "tip_amount                  0\n",
       "lpep_pickup_datetime        0\n",
       "extra                       0\n",
       "fare_amount                 0\n",
       "trip_distance               0\n",
       "DOLocationID                0\n",
       "PULocationID                0\n",
       "lpep_dropoff_datetime       0\n",
       "hourofday                   0\n",
       "dtype: int64"
      ]
     },
     "execution_count": 18,
     "metadata": {},
     "output_type": "execute_result"
    }
   ],
   "source": [
    "greentaxi.isnull().sum().sort_values(ascending=False)"
   ]
  },
  {
   "cell_type": "markdown",
   "id": "12ac24cd",
   "metadata": {},
   "source": [
    "# Null Value Imputation"
   ]
  },
  {
   "cell_type": "code",
   "execution_count": 19,
   "id": "0d00284c",
   "metadata": {},
   "outputs": [
    {
     "data": {
      "text/plain": [
       "trip_type\n",
       "1.0    62256\n",
       "NaN     4735\n",
       "2.0     2183\n",
       "Name: count, dtype: int64"
      ]
     },
     "execution_count": 19,
     "metadata": {},
     "output_type": "execute_result"
    }
   ],
   "source": [
    "greentaxi.trip_type.value_counts(dropna=False)"
   ]
  },
  {
   "cell_type": "code",
   "execution_count": 20,
   "id": "c318e701",
   "metadata": {},
   "outputs": [],
   "source": [
    "greentaxi.trip_type=greentaxi.trip_type.fillna(1.0)"
   ]
  },
  {
   "cell_type": "code",
   "execution_count": 21,
   "id": "6b97696b",
   "metadata": {},
   "outputs": [
    {
     "data": {
      "text/plain": [
       "store_and_fwd_flag\n",
       "N       64240\n",
       "None     4732\n",
       "Y         202\n",
       "Name: count, dtype: int64"
      ]
     },
     "execution_count": 21,
     "metadata": {},
     "output_type": "execute_result"
    }
   ],
   "source": [
    "greentaxi.store_and_fwd_flag.value_counts(dropna=False)"
   ]
  },
  {
   "cell_type": "code",
   "execution_count": 22,
   "id": "182ab286",
   "metadata": {},
   "outputs": [],
   "source": [
    "greentaxi.store_and_fwd_flag=greentaxi.store_and_fwd_flag.fillna('N')"
   ]
  },
  {
   "cell_type": "code",
   "execution_count": 23,
   "id": "8041b208",
   "metadata": {},
   "outputs": [
    {
     "data": {
      "text/plain": [
       "RatecodeID\n",
       "1.0     61692\n",
       "NaN      4732\n",
       "5.0      2430\n",
       "2.0       220\n",
       "4.0        63\n",
       "3.0        34\n",
       "99.0        3\n",
       "Name: count, dtype: int64"
      ]
     },
     "execution_count": 23,
     "metadata": {},
     "output_type": "execute_result"
    }
   ],
   "source": [
    "greentaxi.RatecodeID.value_counts(dropna=False)"
   ]
  },
  {
   "cell_type": "code",
   "execution_count": 24,
   "id": "ad2d1388",
   "metadata": {},
   "outputs": [],
   "source": [
    "greentaxi.RatecodeID=greentaxi.RatecodeID.fillna(1.0)"
   ]
  },
  {
   "cell_type": "code",
   "execution_count": 25,
   "id": "4649c4d9",
   "metadata": {},
   "outputs": [
    {
     "data": {
      "text/plain": [
       "congestion_surcharge     4732\n",
       "payment_type             4732\n",
       "passenger_count          4732\n",
       "VendorID                    0\n",
       "tip_amount                  0\n",
       "weekday                     0\n",
       "trip_duration               0\n",
       "trip_type                   0\n",
       "total_amount                0\n",
       "improvement_surcharge       0\n",
       "tolls_amount                0\n",
       "mta_tax                     0\n",
       "lpep_pickup_datetime        0\n",
       "extra                       0\n",
       "fare_amount                 0\n",
       "trip_distance               0\n",
       "DOLocationID                0\n",
       "PULocationID                0\n",
       "RatecodeID                  0\n",
       "store_and_fwd_flag          0\n",
       "lpep_dropoff_datetime       0\n",
       "hourofday                   0\n",
       "dtype: int64"
      ]
     },
     "execution_count": 25,
     "metadata": {},
     "output_type": "execute_result"
    }
   ],
   "source": [
    "greentaxi.isnull().sum().sort_values(ascending=False)"
   ]
  },
  {
   "cell_type": "code",
   "execution_count": 26,
   "id": "d46c33a2",
   "metadata": {},
   "outputs": [
    {
     "data": {
      "text/plain": [
       "congestion_surcharge\n",
       " 0.00    46949\n",
       " 2.75    17487\n",
       " NaN      4732\n",
       " 2.50        4\n",
       "-2.75        2\n",
       "Name: count, dtype: int64"
      ]
     },
     "execution_count": 26,
     "metadata": {},
     "output_type": "execute_result"
    }
   ],
   "source": [
    "greentaxi.congestion_surcharge.value_counts(dropna=False)"
   ]
  },
  {
   "cell_type": "code",
   "execution_count": 27,
   "id": "5b7a62fe",
   "metadata": {},
   "outputs": [
    {
     "data": {
      "text/plain": [
       "count    64442.000000\n",
       "mean         0.746311\n",
       "std          1.223041\n",
       "min         -2.750000\n",
       "25%          0.000000\n",
       "50%          0.000000\n",
       "75%          2.750000\n",
       "max          2.750000\n",
       "Name: congestion_surcharge, dtype: float64"
      ]
     },
     "execution_count": 27,
     "metadata": {},
     "output_type": "execute_result"
    }
   ],
   "source": [
    "greentaxi.congestion_surcharge.describe()"
   ]
  },
  {
   "cell_type": "code",
   "execution_count": 28,
   "id": "d4060edc",
   "metadata": {},
   "outputs": [],
   "source": [
    "greentaxi.congestion_surcharge=greentaxi.congestion_surcharge.fillna(greentaxi.congestion_surcharge.median())"
   ]
  },
  {
   "cell_type": "code",
   "execution_count": 29,
   "id": "97a3fdf4",
   "metadata": {},
   "outputs": [
    {
     "data": {
      "text/plain": [
       "payment_type             4732\n",
       "passenger_count          4732\n",
       "VendorID                    0\n",
       "tip_amount                  0\n",
       "weekday                     0\n",
       "trip_duration               0\n",
       "congestion_surcharge        0\n",
       "trip_type                   0\n",
       "total_amount                0\n",
       "improvement_surcharge       0\n",
       "tolls_amount                0\n",
       "mta_tax                     0\n",
       "lpep_pickup_datetime        0\n",
       "extra                       0\n",
       "fare_amount                 0\n",
       "trip_distance               0\n",
       "DOLocationID                0\n",
       "PULocationID                0\n",
       "RatecodeID                  0\n",
       "store_and_fwd_flag          0\n",
       "lpep_dropoff_datetime       0\n",
       "hourofday                   0\n",
       "dtype: int64"
      ]
     },
     "execution_count": 29,
     "metadata": {},
     "output_type": "execute_result"
    }
   ],
   "source": [
    "greentaxi.isnull().sum().sort_values(ascending=False)"
   ]
  },
  {
   "cell_type": "code",
   "execution_count": 30,
   "id": "b342ebd5",
   "metadata": {},
   "outputs": [
    {
     "data": {
      "text/plain": [
       "payment_type\n",
       "1.0    42558\n",
       "2.0    21337\n",
       "NaN     4732\n",
       "3.0      402\n",
       "4.0      144\n",
       "5.0        1\n",
       "Name: count, dtype: int64"
      ]
     },
     "execution_count": 30,
     "metadata": {},
     "output_type": "execute_result"
    }
   ],
   "source": [
    "greentaxi.payment_type.value_counts(dropna=False)"
   ]
  },
  {
   "cell_type": "code",
   "execution_count": 31,
   "id": "b9c2628c",
   "metadata": {},
   "outputs": [],
   "source": [
    "greentaxi.payment_type=greentaxi.payment_type.fillna(1.0)"
   ]
  },
  {
   "cell_type": "code",
   "execution_count": 32,
   "id": "f14521ef",
   "metadata": {},
   "outputs": [
    {
     "data": {
      "text/plain": [
       "passenger_count\n",
       "1.0    54760\n",
       "2.0     5632\n",
       "NaN     4732\n",
       "5.0     1466\n",
       "3.0      937\n",
       "6.0      755\n",
       "0.0      628\n",
       "4.0      255\n",
       "7.0        7\n",
       "9.0        1\n",
       "8.0        1\n",
       "Name: count, dtype: int64"
      ]
     },
     "execution_count": 32,
     "metadata": {},
     "output_type": "execute_result"
    }
   ],
   "source": [
    "greentaxi.passenger_count.value_counts(dropna=False)"
   ]
  },
  {
   "cell_type": "code",
   "execution_count": 33,
   "id": "f4510dce",
   "metadata": {},
   "outputs": [],
   "source": [
    "greentaxi.passenger_count=greentaxi.passenger_count.fillna(1.0)"
   ]
  },
  {
   "cell_type": "code",
   "execution_count": 34,
   "id": "21164e5b",
   "metadata": {},
   "outputs": [
    {
     "data": {
      "text/plain": [
       "VendorID                 0\n",
       "lpep_pickup_datetime     0\n",
       "lpep_dropoff_datetime    0\n",
       "store_and_fwd_flag       0\n",
       "RatecodeID               0\n",
       "PULocationID             0\n",
       "DOLocationID             0\n",
       "passenger_count          0\n",
       "trip_distance            0\n",
       "fare_amount              0\n",
       "extra                    0\n",
       "mta_tax                  0\n",
       "tip_amount               0\n",
       "tolls_amount             0\n",
       "improvement_surcharge    0\n",
       "total_amount             0\n",
       "payment_type             0\n",
       "trip_type                0\n",
       "congestion_surcharge     0\n",
       "trip_duration            0\n",
       "weekday                  0\n",
       "hourofday                0\n",
       "dtype: int64"
      ]
     },
     "execution_count": 34,
     "metadata": {},
     "output_type": "execute_result"
    }
   ],
   "source": [
    "greentaxi.isnull().sum()"
   ]
  },
  {
   "cell_type": "markdown",
   "id": "3aae5961",
   "metadata": {},
   "source": [
    "# EDA"
   ]
  },
  {
   "cell_type": "code",
   "execution_count": 35,
   "id": "ac5c5e9d",
   "metadata": {},
   "outputs": [
    {
     "data": {
      "text/html": [
       "<div>\n",
       "<style scoped>\n",
       "    .dataframe tbody tr th:only-of-type {\n",
       "        vertical-align: middle;\n",
       "    }\n",
       "\n",
       "    .dataframe tbody tr th {\n",
       "        vertical-align: top;\n",
       "    }\n",
       "\n",
       "    .dataframe thead th {\n",
       "        text-align: right;\n",
       "    }\n",
       "</style>\n",
       "<table border=\"1\" class=\"dataframe\">\n",
       "  <thead>\n",
       "    <tr style=\"text-align: right;\">\n",
       "      <th></th>\n",
       "      <th>VendorID</th>\n",
       "      <th>lpep_pickup_datetime</th>\n",
       "      <th>lpep_dropoff_datetime</th>\n",
       "      <th>RatecodeID</th>\n",
       "      <th>PULocationID</th>\n",
       "      <th>DOLocationID</th>\n",
       "      <th>passenger_count</th>\n",
       "      <th>trip_distance</th>\n",
       "      <th>fare_amount</th>\n",
       "      <th>extra</th>\n",
       "      <th>...</th>\n",
       "      <th>tip_amount</th>\n",
       "      <th>tolls_amount</th>\n",
       "      <th>improvement_surcharge</th>\n",
       "      <th>total_amount</th>\n",
       "      <th>payment_type</th>\n",
       "      <th>trip_type</th>\n",
       "      <th>congestion_surcharge</th>\n",
       "      <th>trip_duration</th>\n",
       "      <th>weekday</th>\n",
       "      <th>hourofday</th>\n",
       "    </tr>\n",
       "  </thead>\n",
       "  <tbody>\n",
       "    <tr>\n",
       "      <th>count</th>\n",
       "      <td>69174.000000</td>\n",
       "      <td>69174</td>\n",
       "      <td>69174</td>\n",
       "      <td>69174.000000</td>\n",
       "      <td>69174.000000</td>\n",
       "      <td>69174.000000</td>\n",
       "      <td>69174.000000</td>\n",
       "      <td>69174.000000</td>\n",
       "      <td>69174.000000</td>\n",
       "      <td>69174.000000</td>\n",
       "      <td>...</td>\n",
       "      <td>69174.000000</td>\n",
       "      <td>69174.000000</td>\n",
       "      <td>69174.000000</td>\n",
       "      <td>69174.000000</td>\n",
       "      <td>69174.000000</td>\n",
       "      <td>69174.000000</td>\n",
       "      <td>69174.000000</td>\n",
       "      <td>69174.000000</td>\n",
       "      <td>69174.000000</td>\n",
       "      <td>69174.000000</td>\n",
       "    </tr>\n",
       "    <tr>\n",
       "      <th>mean</th>\n",
       "      <td>1.863345</td>\n",
       "      <td>2023-05-16 06:28:32.500288768</td>\n",
       "      <td>2023-05-16 06:48:33.591204608</td>\n",
       "      <td>1.151661</td>\n",
       "      <td>98.859441</td>\n",
       "      <td>140.348599</td>\n",
       "      <td>1.250658</td>\n",
       "      <td>18.591360</td>\n",
       "      <td>18.187894</td>\n",
       "      <td>0.894679</td>\n",
       "      <td>...</td>\n",
       "      <td>2.412527</td>\n",
       "      <td>0.244839</td>\n",
       "      <td>0.973770</td>\n",
       "      <td>23.822248</td>\n",
       "      <td>1.326380</td>\n",
       "      <td>1.031558</td>\n",
       "      <td>0.695258</td>\n",
       "      <td>20.018182</td>\n",
       "      <td>2.722656</td>\n",
       "      <td>14.077385</td>\n",
       "    </tr>\n",
       "    <tr>\n",
       "      <th>min</th>\n",
       "      <td>1.000000</td>\n",
       "      <td>2008-12-31 22:41:41</td>\n",
       "      <td>2008-12-31 23:01:41</td>\n",
       "      <td>1.000000</td>\n",
       "      <td>1.000000</td>\n",
       "      <td>1.000000</td>\n",
       "      <td>0.000000</td>\n",
       "      <td>0.000000</td>\n",
       "      <td>-95.000000</td>\n",
       "      <td>-5.000000</td>\n",
       "      <td>...</td>\n",
       "      <td>-0.900000</td>\n",
       "      <td>0.000000</td>\n",
       "      <td>-1.000000</td>\n",
       "      <td>-96.000000</td>\n",
       "      <td>1.000000</td>\n",
       "      <td>1.000000</td>\n",
       "      <td>-2.750000</td>\n",
       "      <td>0.000000</td>\n",
       "      <td>0.000000</td>\n",
       "      <td>0.000000</td>\n",
       "    </tr>\n",
       "    <tr>\n",
       "      <th>25%</th>\n",
       "      <td>2.000000</td>\n",
       "      <td>2023-05-08 19:19:23.750000128</td>\n",
       "      <td>2023-05-08 19:35:00</td>\n",
       "      <td>1.000000</td>\n",
       "      <td>74.000000</td>\n",
       "      <td>74.000000</td>\n",
       "      <td>1.000000</td>\n",
       "      <td>1.170000</td>\n",
       "      <td>10.000000</td>\n",
       "      <td>0.000000</td>\n",
       "      <td>...</td>\n",
       "      <td>0.000000</td>\n",
       "      <td>0.000000</td>\n",
       "      <td>1.000000</td>\n",
       "      <td>13.500000</td>\n",
       "      <td>1.000000</td>\n",
       "      <td>1.000000</td>\n",
       "      <td>0.000000</td>\n",
       "      <td>7.700000</td>\n",
       "      <td>1.000000</td>\n",
       "      <td>10.000000</td>\n",
       "    </tr>\n",
       "    <tr>\n",
       "      <th>50%</th>\n",
       "      <td>2.000000</td>\n",
       "      <td>2023-05-16 12:01:23</td>\n",
       "      <td>2023-05-16 12:22:53.500000</td>\n",
       "      <td>1.000000</td>\n",
       "      <td>75.000000</td>\n",
       "      <td>138.000000</td>\n",
       "      <td>1.000000</td>\n",
       "      <td>1.940000</td>\n",
       "      <td>14.200000</td>\n",
       "      <td>0.000000</td>\n",
       "      <td>...</td>\n",
       "      <td>1.980000</td>\n",
       "      <td>0.000000</td>\n",
       "      <td>1.000000</td>\n",
       "      <td>19.200000</td>\n",
       "      <td>1.000000</td>\n",
       "      <td>1.000000</td>\n",
       "      <td>0.000000</td>\n",
       "      <td>12.233333</td>\n",
       "      <td>3.000000</td>\n",
       "      <td>15.000000</td>\n",
       "    </tr>\n",
       "    <tr>\n",
       "      <th>75%</th>\n",
       "      <td>2.000000</td>\n",
       "      <td>2023-05-23 18:22:23.500000</td>\n",
       "      <td>2023-05-23 18:41:32.500000</td>\n",
       "      <td>1.000000</td>\n",
       "      <td>129.000000</td>\n",
       "      <td>223.000000</td>\n",
       "      <td>1.000000</td>\n",
       "      <td>3.490000</td>\n",
       "      <td>21.200000</td>\n",
       "      <td>1.000000</td>\n",
       "      <td>...</td>\n",
       "      <td>3.690000</td>\n",
       "      <td>0.000000</td>\n",
       "      <td>1.000000</td>\n",
       "      <td>28.460000</td>\n",
       "      <td>2.000000</td>\n",
       "      <td>1.000000</td>\n",
       "      <td>2.750000</td>\n",
       "      <td>19.166667</td>\n",
       "      <td>4.000000</td>\n",
       "      <td>18.000000</td>\n",
       "    </tr>\n",
       "    <tr>\n",
       "      <th>max</th>\n",
       "      <td>2.000000</td>\n",
       "      <td>2023-06-06 18:16:11</td>\n",
       "      <td>2023-06-06 18:16:31</td>\n",
       "      <td>99.000000</td>\n",
       "      <td>265.000000</td>\n",
       "      <td>265.000000</td>\n",
       "      <td>9.000000</td>\n",
       "      <td>267006.000000</td>\n",
       "      <td>735.900000</td>\n",
       "      <td>12.500000</td>\n",
       "      <td>...</td>\n",
       "      <td>460.000000</td>\n",
       "      <td>65.000000</td>\n",
       "      <td>1.000000</td>\n",
       "      <td>744.950000</td>\n",
       "      <td>5.000000</td>\n",
       "      <td>2.000000</td>\n",
       "      <td>2.750000</td>\n",
       "      <td>1438.583333</td>\n",
       "      <td>6.000000</td>\n",
       "      <td>23.000000</td>\n",
       "    </tr>\n",
       "    <tr>\n",
       "      <th>std</th>\n",
       "      <td>0.343486</td>\n",
       "      <td>NaN</td>\n",
       "      <td>NaN</td>\n",
       "      <td>0.984343</td>\n",
       "      <td>60.533119</td>\n",
       "      <td>76.187368</td>\n",
       "      <td>0.855724</td>\n",
       "      <td>1274.880857</td>\n",
       "      <td>15.477541</td>\n",
       "      <td>1.359046</td>\n",
       "      <td>...</td>\n",
       "      <td>4.047595</td>\n",
       "      <td>1.349760</td>\n",
       "      <td>0.161528</td>\n",
       "      <td>17.904309</td>\n",
       "      <td>0.494111</td>\n",
       "      <td>0.174822</td>\n",
       "      <td>1.195407</td>\n",
       "      <td>79.911908</td>\n",
       "      <td>1.926445</td>\n",
       "      <td>5.362605</td>\n",
       "    </tr>\n",
       "  </tbody>\n",
       "</table>\n",
       "<p>8 rows × 21 columns</p>\n",
       "</div>"
      ],
      "text/plain": [
       "           VendorID           lpep_pickup_datetime  \\\n",
       "count  69174.000000                          69174   \n",
       "mean       1.863345  2023-05-16 06:28:32.500288768   \n",
       "min        1.000000            2008-12-31 22:41:41   \n",
       "25%        2.000000  2023-05-08 19:19:23.750000128   \n",
       "50%        2.000000            2023-05-16 12:01:23   \n",
       "75%        2.000000     2023-05-23 18:22:23.500000   \n",
       "max        2.000000            2023-06-06 18:16:11   \n",
       "std        0.343486                            NaN   \n",
       "\n",
       "               lpep_dropoff_datetime    RatecodeID  PULocationID  \\\n",
       "count                          69174  69174.000000  69174.000000   \n",
       "mean   2023-05-16 06:48:33.591204608      1.151661     98.859441   \n",
       "min              2008-12-31 23:01:41      1.000000      1.000000   \n",
       "25%              2023-05-08 19:35:00      1.000000     74.000000   \n",
       "50%       2023-05-16 12:22:53.500000      1.000000     75.000000   \n",
       "75%       2023-05-23 18:41:32.500000      1.000000    129.000000   \n",
       "max              2023-06-06 18:16:31     99.000000    265.000000   \n",
       "std                              NaN      0.984343     60.533119   \n",
       "\n",
       "       DOLocationID  passenger_count  trip_distance   fare_amount  \\\n",
       "count  69174.000000     69174.000000   69174.000000  69174.000000   \n",
       "mean     140.348599         1.250658      18.591360     18.187894   \n",
       "min        1.000000         0.000000       0.000000    -95.000000   \n",
       "25%       74.000000         1.000000       1.170000     10.000000   \n",
       "50%      138.000000         1.000000       1.940000     14.200000   \n",
       "75%      223.000000         1.000000       3.490000     21.200000   \n",
       "max      265.000000         9.000000  267006.000000    735.900000   \n",
       "std       76.187368         0.855724    1274.880857     15.477541   \n",
       "\n",
       "              extra  ...    tip_amount  tolls_amount  improvement_surcharge  \\\n",
       "count  69174.000000  ...  69174.000000  69174.000000           69174.000000   \n",
       "mean       0.894679  ...      2.412527      0.244839               0.973770   \n",
       "min       -5.000000  ...     -0.900000      0.000000              -1.000000   \n",
       "25%        0.000000  ...      0.000000      0.000000               1.000000   \n",
       "50%        0.000000  ...      1.980000      0.000000               1.000000   \n",
       "75%        1.000000  ...      3.690000      0.000000               1.000000   \n",
       "max       12.500000  ...    460.000000     65.000000               1.000000   \n",
       "std        1.359046  ...      4.047595      1.349760               0.161528   \n",
       "\n",
       "       total_amount  payment_type     trip_type  congestion_surcharge  \\\n",
       "count  69174.000000  69174.000000  69174.000000          69174.000000   \n",
       "mean      23.822248      1.326380      1.031558              0.695258   \n",
       "min      -96.000000      1.000000      1.000000             -2.750000   \n",
       "25%       13.500000      1.000000      1.000000              0.000000   \n",
       "50%       19.200000      1.000000      1.000000              0.000000   \n",
       "75%       28.460000      2.000000      1.000000              2.750000   \n",
       "max      744.950000      5.000000      2.000000              2.750000   \n",
       "std       17.904309      0.494111      0.174822              1.195407   \n",
       "\n",
       "       trip_duration       weekday     hourofday  \n",
       "count   69174.000000  69174.000000  69174.000000  \n",
       "mean       20.018182      2.722656     14.077385  \n",
       "min         0.000000      0.000000      0.000000  \n",
       "25%         7.700000      1.000000     10.000000  \n",
       "50%        12.233333      3.000000     15.000000  \n",
       "75%        19.166667      4.000000     18.000000  \n",
       "max      1438.583333      6.000000     23.000000  \n",
       "std        79.911908      1.926445      5.362605  \n",
       "\n",
       "[8 rows x 21 columns]"
      ]
     },
     "execution_count": 35,
     "metadata": {},
     "output_type": "execute_result"
    }
   ],
   "source": [
    "# describe() will give the descriptive statistics for numeric data\n",
    "greentaxi.describe()"
   ]
  },
  {
   "cell_type": "code",
   "execution_count": 36,
   "id": "5ed520b9",
   "metadata": {},
   "outputs": [
    {
     "data": {
      "text/html": [
       "<div>\n",
       "<style scoped>\n",
       "    .dataframe tbody tr th:only-of-type {\n",
       "        vertical-align: middle;\n",
       "    }\n",
       "\n",
       "    .dataframe tbody tr th {\n",
       "        vertical-align: top;\n",
       "    }\n",
       "\n",
       "    .dataframe thead th {\n",
       "        text-align: right;\n",
       "    }\n",
       "</style>\n",
       "<table border=\"1\" class=\"dataframe\">\n",
       "  <thead>\n",
       "    <tr style=\"text-align: right;\">\n",
       "      <th></th>\n",
       "      <th>store_and_fwd_flag</th>\n",
       "    </tr>\n",
       "  </thead>\n",
       "  <tbody>\n",
       "    <tr>\n",
       "      <th>count</th>\n",
       "      <td>69174</td>\n",
       "    </tr>\n",
       "    <tr>\n",
       "      <th>unique</th>\n",
       "      <td>2</td>\n",
       "    </tr>\n",
       "    <tr>\n",
       "      <th>top</th>\n",
       "      <td>N</td>\n",
       "    </tr>\n",
       "    <tr>\n",
       "      <th>freq</th>\n",
       "      <td>68972</td>\n",
       "    </tr>\n",
       "  </tbody>\n",
       "</table>\n",
       "</div>"
      ],
      "text/plain": [
       "       store_and_fwd_flag\n",
       "count               69174\n",
       "unique                  2\n",
       "top                     N\n",
       "freq                68972"
      ]
     },
     "execution_count": 36,
     "metadata": {},
     "output_type": "execute_result"
    }
   ],
   "source": [
    "#for categorical\n",
    "greentaxi.describe(include='object')"
   ]
  },
  {
   "cell_type": "markdown",
   "id": "d87cead5",
   "metadata": {},
   "source": [
    "# Data Aggrigation and Data visualization"
   ]
  },
  {
   "cell_type": "code",
   "execution_count": 37,
   "id": "3d4bfcc3",
   "metadata": {},
   "outputs": [],
   "source": [
    "#pie diagrams of-trip_type,payment_type,RatecodeId\n",
    "#crosstab andstacked Bar diagram of weekdayand trip_type,weekday&payment_type,hour and payment_type\n",
    "#groupby() mean forfollowing : weekday& total_amount,hour&total_amount,payment_type&totalamount\n",
    "#weekday & trip_duration,hour & trip_duration, payment_typ & trip_duration"
   ]
  },
  {
   "cell_type": "code",
   "execution_count": 38,
   "id": "610ed206",
   "metadata": {},
   "outputs": [
    {
     "data": {
      "text/plain": [
       "<Axes: ylabel='count'>"
      ]
     },
     "execution_count": 38,
     "metadata": {},
     "output_type": "execute_result"
    },
    {
     "data": {
      "image/png": "[encoded data removed]",
      "text/plain": [
       "<Figure size 640x480 with 1 Axes>"
      ]
     },
     "metadata": {},
     "output_type": "display_data"
    }
   ],
   "source": [
    "# value_counts() will combine the values into groups and gives the values acccording to it\n",
    "# pie diagrams of-trip_type,payment_type,RatecodeId\n",
    "greentaxi.trip_type.value_counts().plot(kind='pie',autopct=\"%0.2f%%\")"
   ]
  },
  {
   "cell_type": "code",
   "execution_count": 39,
   "id": "863cbf59",
   "metadata": {},
   "outputs": [
    {
     "data": {
      "text/plain": [
       "<Axes: ylabel='count'>"
      ]
     },
     "execution_count": 39,
     "metadata": {},
     "output_type": "execute_result"
    },
    {
     "data": {
      "image/png": "[encoded data removed]",
      "text/plain": [
       "<Figure size 640x480 with 1 Axes>"
      ]
     },
     "metadata": {},
     "output_type": "display_data"
    }
   ],
   "source": [
    "greentaxi.payment_type.value_counts().plot(kind='pie',autopct=\"%0.2f%%\")"
   ]
  },
  {
   "cell_type": "code",
   "execution_count": 40,
   "id": "7fe46c9b",
   "metadata": {},
   "outputs": [
    {
     "data": {
      "text/plain": [
       "<Axes: ylabel='count'>"
      ]
     },
     "execution_count": 40,
     "metadata": {},
     "output_type": "execute_result"
    },
    {
     "data": {
      "image/png": "[encoded data removed]",
      "text/plain": [
       "<Figure size 640x480 with 1 Axes>"
      ]
     },
     "metadata": {},
     "output_type": "display_data"
    }
   ],
   "source": [
    "greentaxi.RatecodeID.value_counts().plot(kind='pie',autopct=\"%0.2f%%\")"
   ]
  },
  {
   "cell_type": "code",
   "execution_count": 163,
   "id": "e749729d",
   "metadata": {},
   "outputs": [
    {
     "data": {
      "image/png": "[encoded data removed]",
      "text/plain": [
       "<Figure size 640x480 with 1 Axes>"
      ]
     },
     "metadata": {},
     "output_type": "display_data"
    }
   ],
   "source": [
    "# CrossTab : it compares the result of one or more variables with result of another variable\n",
    "#crosstab andstacked Bar diagram of weekdayand trip_type,weekday&payment_type,hour and payment_type\n",
    "ax=pd.crosstab(greentaxi.weekday,greentaxi.trip_type).plot(kind='bar',stacked=True)\n",
    "for i in ax.containers:\n",
    "    ax.bar_label(i)"
   ]
  },
  {
   "cell_type": "code",
   "execution_count": 164,
   "id": "8c9bffef",
   "metadata": {},
   "outputs": [
    {
     "data": {
      "image/png": "[encoded data removed]",
      "text/plain": [
       "<Figure size 640x480 with 1 Axes>"
      ]
     },
     "metadata": {},
     "output_type": "display_data"
    }
   ],
   "source": [
    "ax1=pd.crosstab(greentaxi.weekday,greentaxi.payment_type).plot(kind='bar',stacked=True)\n",
    "for i in ax1.containers:\n",
    "    ax1.bar_label(i)"
   ]
  },
  {
   "cell_type": "code",
   "execution_count": 165,
   "id": "3a65e337",
   "metadata": {},
   "outputs": [
    {
     "data": {
      "image/png": "[encoded data removed]",
      "text/plain": [
       "<Figure size 640x480 with 1 Axes>"
      ]
     },
     "metadata": {},
     "output_type": "display_data"
    }
   ],
   "source": [
    "ax2=pd.crosstab(greentaxi.hourofday,greentaxi.payment_type).plot(kind='bar',stacked=True)\n",
    "for i in ax2.containers:\n",
    "    ax2.bar_label(i)"
   ]
  },
  {
   "cell_type": "code",
   "execution_count": 166,
   "id": "191d547a",
   "metadata": {},
   "outputs": [
    {
     "data": {
      "image/png": "[encoded data removed]",
      "text/plain": [
       "<Figure size 640x480 with 1 Axes>"
      ]
     },
     "metadata": {},
     "output_type": "display_data"
    }
   ],
   "source": [
    "ax=greentaxi.total_amount.groupby(greentaxi.weekday).mean().plot(kind='bar')\n",
    "for i in ax.containers:\n",
    "    ax.bar_label(i)\n",
    "#Trip Duration in week day,Saturday has the highest duration"
   ]
  },
  {
   "cell_type": "code",
   "execution_count": 167,
   "id": "2b32f7aa",
   "metadata": {},
   "outputs": [
    {
     "data": {
      "image/png": "[encoded data removed]",
      "text/plain": [
       "<Figure size 2000x1000 with 1 Axes>"
      ]
     },
     "metadata": {},
     "output_type": "display_data"
    }
   ],
   "source": [
    "plt.figure(figsize=(20,10))\n",
    "ax=np.round(greentaxi.total_amount.groupby(greentaxi.hourofday).mean(),2).sort_values(ascending=False).plot(kind='bar',color='red')\n",
    "for i in ax.containers:\n",
    "    ax.bar_label(i)\n",
    "#in the graph early morning 5:00 has the huge demand for the taxi"
   ]
  },
  {
   "cell_type": "code",
   "execution_count": 168,
   "id": "77201802",
   "metadata": {},
   "outputs": [
    {
     "data": {
      "image/png": "[encoded data removed]",
      "text/plain": [
       "<Figure size 640x480 with 1 Axes>"
      ]
     },
     "metadata": {},
     "output_type": "display_data"
    }
   ],
   "source": [
    "ax=greentaxi.total_amount.groupby(greentaxi.payment_type).mean().plot(kind='bar',color='green')\n",
    "for i in ax.containers:\n",
    "    ax.bar_label(i)"
   ]
  },
  {
   "cell_type": "code",
   "execution_count": 169,
   "id": "e83a1bfd",
   "metadata": {},
   "outputs": [
    {
     "data": {
      "image/png": "[encoded data removed]",
      "text/plain": [
       "<Figure size 2000x1000 with 1 Axes>"
      ]
     },
     "metadata": {},
     "output_type": "display_data"
    }
   ],
   "source": [
    "plt.figure(figsize=(20,10))\n",
    "ax=np.round(greentaxi.trip_duration.groupby(greentaxi.hourofday).mean(),2).sort_values(ascending=False).plot(kind='bar',color='violet')\n",
    "for i in ax.containers:\n",
    "    ax.bar_label(i)"
   ]
  },
  {
   "cell_type": "code",
   "execution_count": 170,
   "id": "a041d38f",
   "metadata": {},
   "outputs": [
    {
     "data": {
      "image/png": "[encoded data removed]",
      "text/plain": [
       "<Figure size 640x480 with 1 Axes>"
      ]
     },
     "metadata": {},
     "output_type": "display_data"
    }
   ],
   "source": [
    "ax=greentaxi.trip_duration.groupby(greentaxi.payment_type).mean().plot(kind='bar',color='pink')\n",
    "for i in ax.containers:\n",
    "    ax.bar_label(i)"
   ]
  },
  {
   "cell_type": "code",
   "execution_count": 44,
   "id": "cfc196b6",
   "metadata": {},
   "outputs": [
    {
     "data": {
      "text/plain": [
       "weekday\n",
       "0    22.877701\n",
       "1    23.908406\n",
       "2    24.135164\n",
       "3    24.015407\n",
       "4    23.763881\n",
       "5    23.861000\n",
       "6    24.365744\n",
       "Name: total_amount, dtype: float64"
      ]
     },
     "execution_count": 44,
     "metadata": {},
     "output_type": "execute_result"
    }
   ],
   "source": [
    "#GroupBy() : Pandas groupby is used for grouping the data according to the categories and applying\n",
    "#a function to the categories\n",
    "\n",
    "\n",
    "#groupby() mean forfollowing : weekday& total_amount,hour&total_amount,payment_type&totalamount\n",
    "#weekday & trip_duration,hour & trip_duration, payment_typ & trip_duration\n",
    "greentaxi.total_amount.groupby(greentaxi.weekday).mean()"
   ]
  },
  {
   "cell_type": "code",
   "execution_count": 45,
   "id": "e6766c49",
   "metadata": {},
   "outputs": [
    {
     "data": {
      "text/plain": [
       "hourofday\n",
       "0     23.515759\n",
       "1     23.969381\n",
       "2     25.666543\n",
       "3     27.938168\n",
       "4     29.177699\n",
       "5     32.225821\n",
       "6     22.522634\n",
       "7     22.075034\n",
       "8     22.409683\n",
       "9     23.088431\n",
       "10    23.589651\n",
       "11    23.561132\n",
       "12    23.328017\n",
       "13    23.481782\n",
       "14    23.229157\n",
       "15    23.164769\n",
       "16    24.449924\n",
       "17    24.385861\n",
       "18    24.317724\n",
       "19    23.859717\n",
       "20    22.973994\n",
       "21    24.152754\n",
       "22    26.247944\n",
       "23    24.327289\n",
       "Name: total_amount, dtype: float64"
      ]
     },
     "execution_count": 45,
     "metadata": {},
     "output_type": "execute_result"
    }
   ],
   "source": [
    "greentaxi.total_amount.groupby(greentaxi.hourofday).mean()"
   ]
  },
  {
   "cell_type": "code",
   "execution_count": 46,
   "id": "892842fd",
   "metadata": {},
   "outputs": [
    {
     "data": {
      "text/plain": [
       "payment_type\n",
       "1.0    25.780425\n",
       "2.0    19.963180\n",
       "3.0     5.431393\n",
       "4.0     4.038542\n",
       "5.0     4.500000\n",
       "Name: total_amount, dtype: float64"
      ]
     },
     "execution_count": 46,
     "metadata": {},
     "output_type": "execute_result"
    }
   ],
   "source": [
    "greentaxi.total_amount.groupby(greentaxi.payment_type).mean()"
   ]
  },
  {
   "cell_type": "code",
   "execution_count": 47,
   "id": "50b93b62",
   "metadata": {},
   "outputs": [
    {
     "data": {
      "text/plain": [
       "weekday\n",
       "0    18.102442\n",
       "1    19.206054\n",
       "2    20.190806\n",
       "3    20.043437\n",
       "4    20.436111\n",
       "5    22.531876\n",
       "6    20.442245\n",
       "Name: trip_duration, dtype: float64"
      ]
     },
     "execution_count": 47,
     "metadata": {},
     "output_type": "execute_result"
    }
   ],
   "source": [
    "greentaxi.trip_duration.groupby(greentaxi.weekday).mean()"
   ]
  },
  {
   "cell_type": "code",
   "execution_count": 48,
   "id": "f1c57760",
   "metadata": {},
   "outputs": [
    {
     "data": {
      "text/plain": [
       "hourofday\n",
       "0     42.793169\n",
       "1     19.300477\n",
       "2     21.524755\n",
       "3     13.562214\n",
       "4     11.896963\n",
       "5     13.901771\n",
       "6     16.319508\n",
       "7     21.879440\n",
       "8     21.502882\n",
       "9     18.991220\n",
       "10    18.383286\n",
       "11    19.524336\n",
       "12    19.878787\n",
       "13    21.181180\n",
       "14    20.780857\n",
       "15    22.732264\n",
       "16    20.811883\n",
       "17    19.568254\n",
       "18    18.396692\n",
       "19    18.400921\n",
       "20    18.956820\n",
       "21    17.760565\n",
       "22    17.970811\n",
       "23    17.491350\n",
       "Name: trip_duration, dtype: float64"
      ]
     },
     "execution_count": 48,
     "metadata": {},
     "output_type": "execute_result"
    }
   ],
   "source": [
    "greentaxi.trip_duration.groupby(greentaxi.hourofday).mean()"
   ]
  },
  {
   "cell_type": "code",
   "execution_count": 49,
   "id": "2af8d590",
   "metadata": {},
   "outputs": [
    {
     "data": {
      "text/plain": [
       "payment_type\n",
       "1.0    20.188720\n",
       "2.0    19.918320\n",
       "3.0    11.054270\n",
       "4.0     3.969560\n",
       "5.0     0.533333\n",
       "Name: trip_duration, dtype: float64"
      ]
     },
     "execution_count": 49,
     "metadata": {},
     "output_type": "execute_result"
    }
   ],
   "source": [
    "greentaxi.trip_duration.groupby(greentaxi.payment_type).mean()"
   ]
  },
  {
   "cell_type": "markdown",
   "id": "973d013c",
   "metadata": {},
   "source": [
    "# inferential statistics"
   ]
  },
  {
   "cell_type": "markdown",
   "id": "1f705549",
   "metadata": {},
   "source": [
    "## Hypothesis testing"
   ]
  },
  {
   "cell_type": "code",
   "execution_count": 50,
   "id": "5822f441",
   "metadata": {},
   "outputs": [],
   "source": [
    "# Test null average total_amount of different trip_type is equal\n",
    "# Test Null Average tip_amount of different trip_type is equal \n",
    "# Test Null Average total_amount for different weekday equal\n",
    "# Test Null Average tip_amount for different weekday equal\n",
    "\n",
    "# Test Null No Association between trip_type and payment_type\n",
    "# Test Null No Association between RatecodeID and payment_type\n",
    "# Test Null No Association between weekday and payment_type\n",
    "# Test Null No Association between weekday and trip_type"
   ]
  },
  {
   "cell_type": "markdown",
   "id": "beb9115c",
   "metadata": {},
   "source": [
    "# Ttest"
   ]
  },
  {
   "cell_type": "code",
   "execution_count": 51,
   "id": "273e18d0",
   "metadata": {},
   "outputs": [
    {
     "data": {
      "text/plain": [
       "trip_type\n",
       "1.0    23.352330\n",
       "2.0    38.242895\n",
       "Name: total_amount, dtype: float64"
      ]
     },
     "execution_count": 51,
     "metadata": {},
     "output_type": "execute_result"
    }
   ],
   "source": [
    "#testnull average total_amount of different trip_type is equal\n",
    "greentaxi.total_amount.groupby(greentaxi.trip_type).mean()"
   ]
  },
  {
   "cell_type": "code",
   "execution_count": 52,
   "id": "27bd09e9",
   "metadata": {},
   "outputs": [
    {
     "data": {
      "text/plain": [
       "trip_type\n",
       "1.0     268.737906\n",
       "2.0    1697.012919\n",
       "Name: total_amount, dtype: float64"
      ]
     },
     "execution_count": 52,
     "metadata": {},
     "output_type": "execute_result"
    }
   ],
   "source": [
    "greentaxi.total_amount.groupby(greentaxi.trip_type).var()"
   ]
  },
  {
   "cell_type": "code",
   "execution_count": 53,
   "id": "bb492c3b",
   "metadata": {},
   "outputs": [],
   "source": [
    "#null-there is no significance difference in average amount of total_amount of trip_type 1 & 2\n",
    "#alt-there is significance difference in average amount of total_amount of trip_type 1 & 2"
   ]
  },
  {
   "cell_type": "code",
   "execution_count": 54,
   "id": "55dda0b0",
   "metadata": {},
   "outputs": [],
   "source": [
    "ones=greentaxi[greentaxi.trip_type==1.0]\n",
    "twos=greentaxi[greentaxi.trip_type==2.0]"
   ]
  },
  {
   "cell_type": "code",
   "execution_count": 55,
   "id": "3f596bd3",
   "metadata": {},
   "outputs": [],
   "source": [
    "from scipy.stats import ttest_ind"
   ]
  },
  {
   "cell_type": "code",
   "execution_count": 56,
   "id": "39164a86",
   "metadata": {},
   "outputs": [
    {
     "data": {
      "text/plain": [
       "TtestResult(statistic=-16.84526324273241, pvalue=5.457304023638798e-60, df=2204.5760590335676)"
      ]
     },
     "execution_count": 56,
     "metadata": {},
     "output_type": "execute_result"
    }
   ],
   "source": [
    "ttest_ind(ones.total_amount,twos.total_amount,equal_var=False)\n",
    "# since pvalue=5.457304023638798e-60 is less than 0.05 reject null"
   ]
  },
  {
   "cell_type": "code",
   "execution_count": 57,
   "id": "9b4f60bc",
   "metadata": {},
   "outputs": [
    {
     "data": {
      "text/plain": [
       "trip_type\n",
       "1.0    2.392882\n",
       "2.0    3.015369\n",
       "Name: tip_amount, dtype: float64"
      ]
     },
     "execution_count": 57,
     "metadata": {},
     "output_type": "execute_result"
    }
   ],
   "source": [
    "# Test Null Average tip_amount of different trip_type is equal\n",
    "greentaxi.tip_amount.groupby(greentaxi.trip_type).mean()"
   ]
  },
  {
   "cell_type": "code",
   "execution_count": 58,
   "id": "bf00e13a",
   "metadata": {},
   "outputs": [
    {
     "data": {
      "text/plain": [
       "TtestResult(statistic=-3.27456904334513, pvalue=0.0010745858666445013, df=2208.098340550297)"
      ]
     },
     "execution_count": 58,
     "metadata": {},
     "output_type": "execute_result"
    }
   ],
   "source": [
    "ttest_ind(ones.tip_amount,twos.tip_amount,equal_var=False)\n",
    "# since pvalue=0.0010745858666445013 is less than 0.05 reject null\n",
    "#null-there is no significance difference in average amount of tip_amount of trip_type 1 & 2\n",
    "#alt-there is significance difference in average amount of tip_amount of trip_type 1 & 2"
   ]
  },
  {
   "cell_type": "markdown",
   "id": "b27be955",
   "metadata": {},
   "source": [
    "# ANOVA TEST"
   ]
  },
  {
   "cell_type": "code",
   "execution_count": 59,
   "id": "4378af1c",
   "metadata": {},
   "outputs": [
    {
     "data": {
      "text/plain": [
       "weekday\n",
       "0    22.877701\n",
       "1    23.908406\n",
       "2    24.135164\n",
       "3    24.015407\n",
       "4    23.763881\n",
       "5    23.861000\n",
       "6    24.365744\n",
       "Name: total_amount, dtype: float64"
      ]
     },
     "execution_count": 59,
     "metadata": {},
     "output_type": "execute_result"
    }
   ],
   "source": [
    "# Test Null Average total_amount for different weekday equal\n",
    "greentaxi.total_amount.groupby(greentaxi.weekday).mean()"
   ]
  },
  {
   "cell_type": "code",
   "execution_count": 60,
   "id": "a7c9d838",
   "metadata": {},
   "outputs": [],
   "source": [
    "zero=greentaxi[greentaxi.weekday==0]\n",
    "one=greentaxi[greentaxi.weekday==1]\n",
    "two=greentaxi[greentaxi.weekday==2]\n",
    "three=greentaxi[greentaxi.weekday==3]\n",
    "four=greentaxi[greentaxi.weekday==4]\n",
    "five=greentaxi[greentaxi.weekday==5]\n",
    "six=greentaxi[greentaxi.weekday==6]"
   ]
  },
  {
   "cell_type": "code",
   "execution_count": 61,
   "id": "b16073be",
   "metadata": {},
   "outputs": [],
   "source": [
    "from scipy.stats import f_oneway"
   ]
  },
  {
   "cell_type": "code",
   "execution_count": 62,
   "id": "4fe06be5",
   "metadata": {},
   "outputs": [
    {
     "data": {
      "text/plain": [
       "F_onewayResult(statistic=7.057962027034131, pvalue=1.5781665738843715e-07)"
      ]
     },
     "execution_count": 62,
     "metadata": {},
     "output_type": "execute_result"
    }
   ],
   "source": [
    "f_oneway(zero.total_amount,one.total_amount,two.total_amount,three.total_amount,four.total_amount,five.total_amount,\n",
    "         six.total_amount)\n",
    "#since pvalue=1.5781665738843715e-07 is less than 0.05 reject null"
   ]
  },
  {
   "cell_type": "code",
   "execution_count": 63,
   "id": "1b23fecb",
   "metadata": {},
   "outputs": [
    {
     "data": {
      "text/plain": [
       "weekday\n",
       "0    2.267933\n",
       "1    2.408225\n",
       "2    2.485913\n",
       "3    2.510017\n",
       "4    2.325503\n",
       "5    2.398024\n",
       "6    2.513699\n",
       "Name: tip_amount, dtype: float64"
      ]
     },
     "execution_count": 63,
     "metadata": {},
     "output_type": "execute_result"
    }
   ],
   "source": [
    "# Test Null Average tip_amount for different weekday equal\n",
    "greentaxi.tip_amount.groupby(greentaxi.weekday).mean()"
   ]
  },
  {
   "cell_type": "code",
   "execution_count": 64,
   "id": "e3ad8044",
   "metadata": {},
   "outputs": [
    {
     "data": {
      "text/plain": [
       "F_onewayResult(statistic=5.481926987405262, pvalue=1.1035304312725308e-05)"
      ]
     },
     "execution_count": 64,
     "metadata": {},
     "output_type": "execute_result"
    }
   ],
   "source": [
    "f_oneway(zero.tip_amount,one.tip_amount,two.tip_amount,three.tip_amount,four.tip_amount,five.tip_amount,six.tip_amount)\n",
    "# since pvalue=1.1035304312725308e-05 is less than 0.05 reject null"
   ]
  },
  {
   "cell_type": "markdown",
   "id": "e3008ca9",
   "metadata": {},
   "source": [
    "# Chi Sqaure Test"
   ]
  },
  {
   "cell_type": "code",
   "execution_count": 65,
   "id": "d0ed5625",
   "metadata": {},
   "outputs": [
    {
     "data": {
      "text/html": [
       "<div>\n",
       "<style scoped>\n",
       "    .dataframe tbody tr th:only-of-type {\n",
       "        vertical-align: middle;\n",
       "    }\n",
       "\n",
       "    .dataframe tbody tr th {\n",
       "        vertical-align: top;\n",
       "    }\n",
       "\n",
       "    .dataframe thead th {\n",
       "        text-align: right;\n",
       "    }\n",
       "</style>\n",
       "<table border=\"1\" class=\"dataframe\">\n",
       "  <thead>\n",
       "    <tr style=\"text-align: right;\">\n",
       "      <th>payment_type</th>\n",
       "      <th>1.0</th>\n",
       "      <th>2.0</th>\n",
       "      <th>3.0</th>\n",
       "      <th>4.0</th>\n",
       "      <th>5.0</th>\n",
       "    </tr>\n",
       "    <tr>\n",
       "      <th>trip_type</th>\n",
       "      <th></th>\n",
       "      <th></th>\n",
       "      <th></th>\n",
       "      <th></th>\n",
       "      <th></th>\n",
       "    </tr>\n",
       "  </thead>\n",
       "  <tbody>\n",
       "    <tr>\n",
       "      <th>1.0</th>\n",
       "      <td>45800</td>\n",
       "      <td>20679</td>\n",
       "      <td>378</td>\n",
       "      <td>133</td>\n",
       "      <td>1</td>\n",
       "    </tr>\n",
       "    <tr>\n",
       "      <th>2.0</th>\n",
       "      <td>1490</td>\n",
       "      <td>658</td>\n",
       "      <td>24</td>\n",
       "      <td>11</td>\n",
       "      <td>0</td>\n",
       "    </tr>\n",
       "  </tbody>\n",
       "</table>\n",
       "</div>"
      ],
      "text/plain": [
       "payment_type    1.0    2.0  3.0  4.0  5.0\n",
       "trip_type                                \n",
       "1.0           45800  20679  378  133    1\n",
       "2.0            1490    658   24   11    0"
      ]
     },
     "execution_count": 65,
     "metadata": {},
     "output_type": "execute_result"
    }
   ],
   "source": [
    "# Test Null No Association between trip_type and payment_type\n",
    "pd.crosstab(greentaxi.trip_type,greentaxi.payment_type)\n"
   ]
  },
  {
   "cell_type": "code",
   "execution_count": 66,
   "id": "b5c85bb5",
   "metadata": {},
   "outputs": [],
   "source": [
    "#null- there is no association between both variables\n",
    "#alt - there is association between both variables"
   ]
  },
  {
   "cell_type": "code",
   "execution_count": 67,
   "id": "4066f021",
   "metadata": {},
   "outputs": [],
   "source": [
    "from scipy.stats import chi2_contingency"
   ]
  },
  {
   "cell_type": "code",
   "execution_count": 68,
   "id": "625ccdb1",
   "metadata": {},
   "outputs": [
    {
     "data": {
      "text/plain": [
       "Chi2ContingencyResult(statistic=20.285910588961, pvalue=0.0004385012882035308, dof=4, expected_freq=array([[4.57976175e+04, 2.06636448e+04, 3.89313644e+02, 1.39455634e+02,\n",
       "        9.68441900e-01],\n",
       "       [1.49238254e+03, 6.73355177e+02, 1.26863561e+01, 4.54436638e+00,\n",
       "        3.15580999e-02]]))"
      ]
     },
     "execution_count": 68,
     "metadata": {},
     "output_type": "execute_result"
    }
   ],
   "source": [
    "chi2_contingency(pd.crosstab(greentaxi.trip_type,greentaxi.payment_type))\n",
    "#since pvalue=0.0004385012882035308 is less than 0.05 reject null"
   ]
  },
  {
   "cell_type": "code",
   "execution_count": 69,
   "id": "9ad622c9",
   "metadata": {},
   "outputs": [
    {
     "data": {
      "text/html": [
       "<div>\n",
       "<style scoped>\n",
       "    .dataframe tbody tr th:only-of-type {\n",
       "        vertical-align: middle;\n",
       "    }\n",
       "\n",
       "    .dataframe tbody tr th {\n",
       "        vertical-align: top;\n",
       "    }\n",
       "\n",
       "    .dataframe thead th {\n",
       "        text-align: right;\n",
       "    }\n",
       "</style>\n",
       "<table border=\"1\" class=\"dataframe\">\n",
       "  <thead>\n",
       "    <tr style=\"text-align: right;\">\n",
       "      <th>payment_type</th>\n",
       "      <th>1.0</th>\n",
       "      <th>2.0</th>\n",
       "      <th>3.0</th>\n",
       "      <th>4.0</th>\n",
       "      <th>5.0</th>\n",
       "    </tr>\n",
       "    <tr>\n",
       "      <th>weekday</th>\n",
       "      <th></th>\n",
       "      <th></th>\n",
       "      <th></th>\n",
       "      <th></th>\n",
       "      <th></th>\n",
       "    </tr>\n",
       "  </thead>\n",
       "  <tbody>\n",
       "    <tr>\n",
       "      <th>0</th>\n",
       "      <td>7296</td>\n",
       "      <td>3552</td>\n",
       "      <td>60</td>\n",
       "      <td>26</td>\n",
       "      <td>0</td>\n",
       "    </tr>\n",
       "    <tr>\n",
       "      <th>1</th>\n",
       "      <td>7577</td>\n",
       "      <td>3402</td>\n",
       "      <td>61</td>\n",
       "      <td>22</td>\n",
       "      <td>0</td>\n",
       "    </tr>\n",
       "    <tr>\n",
       "      <th>2</th>\n",
       "      <td>8363</td>\n",
       "      <td>3515</td>\n",
       "      <td>81</td>\n",
       "      <td>21</td>\n",
       "      <td>0</td>\n",
       "    </tr>\n",
       "    <tr>\n",
       "      <th>3</th>\n",
       "      <td>7049</td>\n",
       "      <td>2959</td>\n",
       "      <td>61</td>\n",
       "      <td>15</td>\n",
       "      <td>1</td>\n",
       "    </tr>\n",
       "    <tr>\n",
       "      <th>4</th>\n",
       "      <td>6551</td>\n",
       "      <td>3085</td>\n",
       "      <td>61</td>\n",
       "      <td>40</td>\n",
       "      <td>0</td>\n",
       "    </tr>\n",
       "    <tr>\n",
       "      <th>5</th>\n",
       "      <td>5515</td>\n",
       "      <td>2573</td>\n",
       "      <td>46</td>\n",
       "      <td>10</td>\n",
       "      <td>0</td>\n",
       "    </tr>\n",
       "    <tr>\n",
       "      <th>6</th>\n",
       "      <td>4939</td>\n",
       "      <td>2251</td>\n",
       "      <td>32</td>\n",
       "      <td>10</td>\n",
       "      <td>0</td>\n",
       "    </tr>\n",
       "  </tbody>\n",
       "</table>\n",
       "</div>"
      ],
      "text/plain": [
       "payment_type   1.0   2.0  3.0  4.0  5.0\n",
       "weekday                                \n",
       "0             7296  3552   60   26    0\n",
       "1             7577  3402   61   22    0\n",
       "2             8363  3515   81   21    0\n",
       "3             7049  2959   61   15    1\n",
       "4             6551  3085   61   40    0\n",
       "5             5515  2573   46   10    0\n",
       "6             4939  2251   32   10    0"
      ]
     },
     "execution_count": 69,
     "metadata": {},
     "output_type": "execute_result"
    }
   ],
   "source": [
    "# Test Null No Association between weekday and payment_type\n",
    "pd.crosstab(greentaxi.weekday,greentaxi.payment_type)"
   ]
  },
  {
   "cell_type": "code",
   "execution_count": 70,
   "id": "6cc874fa",
   "metadata": {},
   "outputs": [],
   "source": [
    "#null- there is no association between both variables\n",
    "#alt- there is association between both variables"
   ]
  },
  {
   "cell_type": "code",
   "execution_count": 71,
   "id": "a862de0f",
   "metadata": {},
   "outputs": [
    {
     "data": {
      "text/plain": [
       "Chi2ContingencyResult(statistic=80.80132526421853, pvalue=4.532248995318973e-08, dof=24, expected_freq=array([[7.47490184e+03, 3.37263651e+03, 6.35421979e+01, 2.27613843e+01,\n",
       "        1.58065169e-01],\n",
       "       [7.56240755e+03, 3.41211863e+03, 6.42860612e+01, 2.30278428e+01,\n",
       "        1.59915575e-01],\n",
       "       [8.18998757e+03, 3.69527944e+03, 6.96209559e+01, 2.49388499e+01,\n",
       "        1.73186457e-01],\n",
       "       [6.89449287e+03, 3.11075903e+03, 5.86082921e+01, 2.09940151e+01,\n",
       "        1.45791771e-01],\n",
       "       [6.65658672e+03, 3.00341702e+03, 5.65859138e+01, 2.02695811e+01,\n",
       "        1.40760980e-01],\n",
       "       [5.56755081e+03, 2.51204973e+03, 4.73283025e+01, 1.69534218e+01,\n",
       "        1.17732096e-01],\n",
       "       [4.94407263e+03, 2.23073964e+03, 4.20282765e+01, 1.50549050e+01,\n",
       "        1.04547952e-01]]))"
      ]
     },
     "execution_count": 71,
     "metadata": {},
     "output_type": "execute_result"
    }
   ],
   "source": [
    "chi2_contingency(pd.crosstab(greentaxi.weekday,greentaxi.payment_type))\n",
    "#since pvalue=4.532248995318973e-08 is less than 0.05 reject null"
   ]
  },
  {
   "cell_type": "code",
   "execution_count": 72,
   "id": "f36770da",
   "metadata": {},
   "outputs": [
    {
     "data": {
      "text/html": [
       "<div>\n",
       "<style scoped>\n",
       "    .dataframe tbody tr th:only-of-type {\n",
       "        vertical-align: middle;\n",
       "    }\n",
       "\n",
       "    .dataframe tbody tr th {\n",
       "        vertical-align: top;\n",
       "    }\n",
       "\n",
       "    .dataframe thead th {\n",
       "        text-align: right;\n",
       "    }\n",
       "</style>\n",
       "<table border=\"1\" class=\"dataframe\">\n",
       "  <thead>\n",
       "    <tr style=\"text-align: right;\">\n",
       "      <th>payment_type</th>\n",
       "      <th>1.0</th>\n",
       "      <th>2.0</th>\n",
       "      <th>3.0</th>\n",
       "      <th>4.0</th>\n",
       "      <th>5.0</th>\n",
       "    </tr>\n",
       "    <tr>\n",
       "      <th>RatecodeID</th>\n",
       "      <th></th>\n",
       "      <th></th>\n",
       "      <th></th>\n",
       "      <th></th>\n",
       "      <th></th>\n",
       "    </tr>\n",
       "  </thead>\n",
       "  <tbody>\n",
       "    <tr>\n",
       "      <th>1.0</th>\n",
       "      <td>45524</td>\n",
       "      <td>20410</td>\n",
       "      <td>358</td>\n",
       "      <td>131</td>\n",
       "      <td>1</td>\n",
       "    </tr>\n",
       "    <tr>\n",
       "      <th>2.0</th>\n",
       "      <td>138</td>\n",
       "      <td>68</td>\n",
       "      <td>14</td>\n",
       "      <td>0</td>\n",
       "      <td>0</td>\n",
       "    </tr>\n",
       "    <tr>\n",
       "      <th>3.0</th>\n",
       "      <td>22</td>\n",
       "      <td>7</td>\n",
       "      <td>4</td>\n",
       "      <td>1</td>\n",
       "      <td>0</td>\n",
       "    </tr>\n",
       "    <tr>\n",
       "      <th>4.0</th>\n",
       "      <td>38</td>\n",
       "      <td>24</td>\n",
       "      <td>0</td>\n",
       "      <td>1</td>\n",
       "      <td>0</td>\n",
       "    </tr>\n",
       "    <tr>\n",
       "      <th>5.0</th>\n",
       "      <td>1565</td>\n",
       "      <td>828</td>\n",
       "      <td>26</td>\n",
       "      <td>11</td>\n",
       "      <td>0</td>\n",
       "    </tr>\n",
       "    <tr>\n",
       "      <th>99.0</th>\n",
       "      <td>3</td>\n",
       "      <td>0</td>\n",
       "      <td>0</td>\n",
       "      <td>0</td>\n",
       "      <td>0</td>\n",
       "    </tr>\n",
       "  </tbody>\n",
       "</table>\n",
       "</div>"
      ],
      "text/plain": [
       "payment_type    1.0    2.0  3.0  4.0  5.0\n",
       "RatecodeID                               \n",
       "1.0           45524  20410  358  131    1\n",
       "2.0             138     68   14    0    0\n",
       "3.0              22      7    4    1    0\n",
       "4.0              38     24    0    1    0\n",
       "5.0            1565    828   26   11    0\n",
       "99.0              3      0    0    0    0"
      ]
     },
     "execution_count": 72,
     "metadata": {},
     "output_type": "execute_result"
    }
   ],
   "source": [
    "# Test Null No Association between RatecodeID and payment_type\n",
    "pd.crosstab(greentaxi.RatecodeID,greentaxi.payment_type)"
   ]
  },
  {
   "cell_type": "code",
   "execution_count": 73,
   "id": "10353019",
   "metadata": {},
   "outputs": [],
   "source": [
    "#null- there is no association between both variables\n",
    "#alt- there is association between both variables"
   ]
  },
  {
   "cell_type": "code",
   "execution_count": 74,
   "id": "09ade37b",
   "metadata": {},
   "outputs": [
    {
     "data": {
      "text/plain": [
       "Chi2ContingencyResult(statistic=257.646461298014, pvalue=3.2670230054629802e-43, dof=20, expected_freq=array([[4.54099945e+04, 2.04887514e+04, 3.86018562e+02, 1.38275306e+02,\n",
       "        9.60245179e-01],\n",
       "       [1.50400439e+02, 6.78598896e+01, 1.27851505e+00, 4.57975540e-01,\n",
       "        3.18038569e-03],\n",
       "       [2.32437043e+01, 1.04874375e+01, 1.97588689e-01, 7.07780380e-02,\n",
       "        4.91514153e-04],\n",
       "       [4.30692168e+01, 1.94326047e+01, 3.66120219e-01, 1.31147541e-01,\n",
       "        9.10746812e-04],\n",
       "       [1.66124122e+03, 7.49543326e+02, 1.41217799e+01, 5.05854801e+00,\n",
       "        3.51288056e-02],\n",
       "       [2.05091508e+00, 9.25362130e-01, 1.74342961e-02, 6.24512100e-03,\n",
       "        4.33688958e-05]]))"
      ]
     },
     "execution_count": 74,
     "metadata": {},
     "output_type": "execute_result"
    }
   ],
   "source": [
    "chi2_contingency(pd.crosstab(greentaxi.RatecodeID,greentaxi.payment_type))\n",
    "#since pvalue=3.2670230054629802e-43 is less than 0.05 reject null"
   ]
  },
  {
   "cell_type": "code",
   "execution_count": 75,
   "id": "7ef57352",
   "metadata": {},
   "outputs": [
    {
     "data": {
      "text/html": [
       "<div>\n",
       "<style scoped>\n",
       "    .dataframe tbody tr th:only-of-type {\n",
       "        vertical-align: middle;\n",
       "    }\n",
       "\n",
       "    .dataframe tbody tr th {\n",
       "        vertical-align: top;\n",
       "    }\n",
       "\n",
       "    .dataframe thead th {\n",
       "        text-align: right;\n",
       "    }\n",
       "</style>\n",
       "<table border=\"1\" class=\"dataframe\">\n",
       "  <thead>\n",
       "    <tr style=\"text-align: right;\">\n",
       "      <th>trip_type</th>\n",
       "      <th>1.0</th>\n",
       "      <th>2.0</th>\n",
       "    </tr>\n",
       "    <tr>\n",
       "      <th>weekday</th>\n",
       "      <th></th>\n",
       "      <th></th>\n",
       "    </tr>\n",
       "  </thead>\n",
       "  <tbody>\n",
       "    <tr>\n",
       "      <th>0</th>\n",
       "      <td>10635</td>\n",
       "      <td>299</td>\n",
       "    </tr>\n",
       "    <tr>\n",
       "      <th>1</th>\n",
       "      <td>10775</td>\n",
       "      <td>287</td>\n",
       "    </tr>\n",
       "    <tr>\n",
       "      <th>2</th>\n",
       "      <td>11679</td>\n",
       "      <td>301</td>\n",
       "    </tr>\n",
       "    <tr>\n",
       "      <th>3</th>\n",
       "      <td>9839</td>\n",
       "      <td>246</td>\n",
       "    </tr>\n",
       "    <tr>\n",
       "      <th>4</th>\n",
       "      <td>9425</td>\n",
       "      <td>312</td>\n",
       "    </tr>\n",
       "    <tr>\n",
       "      <th>5</th>\n",
       "      <td>7782</td>\n",
       "      <td>362</td>\n",
       "    </tr>\n",
       "    <tr>\n",
       "      <th>6</th>\n",
       "      <td>6856</td>\n",
       "      <td>376</td>\n",
       "    </tr>\n",
       "  </tbody>\n",
       "</table>\n",
       "</div>"
      ],
      "text/plain": [
       "trip_type    1.0  2.0\n",
       "weekday              \n",
       "0          10635  299\n",
       "1          10775  287\n",
       "2          11679  301\n",
       "3           9839  246\n",
       "4           9425  312\n",
       "5           7782  362\n",
       "6           6856  376"
      ]
     },
     "execution_count": 75,
     "metadata": {},
     "output_type": "execute_result"
    }
   ],
   "source": [
    "# Test Null No Association between weekday and trip_type\n",
    "pd.crosstab(greentaxi.weekday,greentaxi.trip_type)"
   ]
  },
  {
   "cell_type": "code",
   "execution_count": 76,
   "id": "2fece814",
   "metadata": {},
   "outputs": [],
   "source": [
    "#null- there is no association between both variables\n",
    "#alt- there is association between both variables"
   ]
  },
  {
   "cell_type": "code",
   "execution_count": 77,
   "id": "ba335d8b",
   "metadata": {},
   "outputs": [
    {
     "data": {
      "text/plain": [
       "Chi2ContingencyResult(statistic=194.0751725639184, pvalue=3.458694063594574e-39, dof=6, expected_freq=array([[10588.94373609,   345.05626391],\n",
       "       [10712.9042993 ,   349.0957007 ],\n",
       "       [11601.93396363,   378.06603637],\n",
       "       [ 9766.73656287,   318.26343713],\n",
       "       [ 9429.71878162,   307.28121838],\n",
       "       [ 7886.99083471,   257.00916529],\n",
       "       [ 7003.77182178,   228.22817822]]))"
      ]
     },
     "execution_count": 77,
     "metadata": {},
     "output_type": "execute_result"
    }
   ],
   "source": [
    "chi2_contingency(pd.crosstab(greentaxi.weekday,greentaxi.trip_type))\n",
    "#since pvalue=3.458694063594574e-39 is less than 0.05 reject null"
   ]
  },
  {
   "cell_type": "markdown",
   "id": "716b13ab",
   "metadata": {},
   "source": [
    "# Split data into NUMCOLS and OBJCOLS for model building"
   ]
  },
  {
   "cell_type": "code",
   "execution_count": 78,
   "id": "10654388",
   "metadata": {},
   "outputs": [
    {
     "data": {
      "text/plain": [
       "Index(['VendorID', 'lpep_pickup_datetime', 'lpep_dropoff_datetime',\n",
       "       'store_and_fwd_flag', 'RatecodeID', 'PULocationID', 'DOLocationID',\n",
       "       'passenger_count', 'trip_distance', 'fare_amount', 'extra', 'mta_tax',\n",
       "       'tip_amount', 'tolls_amount', 'improvement_surcharge', 'total_amount',\n",
       "       'payment_type', 'trip_type', 'congestion_surcharge', 'trip_duration',\n",
       "       'weekday', 'hourofday'],\n",
       "      dtype='object')"
      ]
     },
     "execution_count": 78,
     "metadata": {},
     "output_type": "execute_result"
    }
   ],
   "source": [
    "greentaxi.columns"
   ]
  },
  {
   "cell_type": "code",
   "execution_count": 79,
   "id": "895ad589",
   "metadata": {},
   "outputs": [],
   "source": [
    "numcols=greentaxi[[ 'trip_distance', 'fare_amount', 'extra', 'mta_tax','tip_amount', 'tolls_amount',\n",
    "                   'improvement_surcharge','congestion_surcharge','trip_duration']]"
   ]
  },
  {
   "cell_type": "code",
   "execution_count": 80,
   "id": "d4761c50",
   "metadata": {},
   "outputs": [],
   "source": [
    "objcols=greentaxi[['store_and_fwd_flag','RatecodeID','passenger_count','payment_type', 'trip_type','weekday','hourofday']]"
   ]
  },
  {
   "cell_type": "code",
   "execution_count": 81,
   "id": "7bc20d5a",
   "metadata": {},
   "outputs": [
    {
     "data": {
      "text/html": [
       "<div>\n",
       "<style scoped>\n",
       "    .dataframe tbody tr th:only-of-type {\n",
       "        vertical-align: middle;\n",
       "    }\n",
       "\n",
       "    .dataframe tbody tr th {\n",
       "        vertical-align: top;\n",
       "    }\n",
       "\n",
       "    .dataframe thead th {\n",
       "        text-align: right;\n",
       "    }\n",
       "</style>\n",
       "<table border=\"1\" class=\"dataframe\">\n",
       "  <thead>\n",
       "    <tr style=\"text-align: right;\">\n",
       "      <th></th>\n",
       "      <th>trip_distance</th>\n",
       "      <th>fare_amount</th>\n",
       "      <th>extra</th>\n",
       "      <th>mta_tax</th>\n",
       "      <th>tip_amount</th>\n",
       "      <th>tolls_amount</th>\n",
       "      <th>improvement_surcharge</th>\n",
       "      <th>congestion_surcharge</th>\n",
       "      <th>trip_duration</th>\n",
       "    </tr>\n",
       "  </thead>\n",
       "  <tbody>\n",
       "    <tr>\n",
       "      <th>0</th>\n",
       "      <td>6.99</td>\n",
       "      <td>28.90</td>\n",
       "      <td>1.0</td>\n",
       "      <td>0.5</td>\n",
       "      <td>0.00</td>\n",
       "      <td>0.00</td>\n",
       "      <td>1.0</td>\n",
       "      <td>0.00</td>\n",
       "      <td>13.266667</td>\n",
       "    </tr>\n",
       "    <tr>\n",
       "      <th>1</th>\n",
       "      <td>6.60</td>\n",
       "      <td>30.30</td>\n",
       "      <td>1.0</td>\n",
       "      <td>0.5</td>\n",
       "      <td>5.00</td>\n",
       "      <td>0.00</td>\n",
       "      <td>1.0</td>\n",
       "      <td>2.75</td>\n",
       "      <td>20.366667</td>\n",
       "    </tr>\n",
       "    <tr>\n",
       "      <th>2</th>\n",
       "      <td>1.34</td>\n",
       "      <td>9.30</td>\n",
       "      <td>1.0</td>\n",
       "      <td>0.5</td>\n",
       "      <td>2.36</td>\n",
       "      <td>0.00</td>\n",
       "      <td>1.0</td>\n",
       "      <td>0.00</td>\n",
       "      <td>6.883333</td>\n",
       "    </tr>\n",
       "    <tr>\n",
       "      <th>3</th>\n",
       "      <td>7.79</td>\n",
       "      <td>22.73</td>\n",
       "      <td>0.0</td>\n",
       "      <td>0.0</td>\n",
       "      <td>2.29</td>\n",
       "      <td>6.55</td>\n",
       "      <td>1.0</td>\n",
       "      <td>0.00</td>\n",
       "      <td>20.450000</td>\n",
       "    </tr>\n",
       "    <tr>\n",
       "      <th>4</th>\n",
       "      <td>0.70</td>\n",
       "      <td>6.50</td>\n",
       "      <td>1.0</td>\n",
       "      <td>0.5</td>\n",
       "      <td>0.00</td>\n",
       "      <td>0.00</td>\n",
       "      <td>1.0</td>\n",
       "      <td>0.00</td>\n",
       "      <td>3.466667</td>\n",
       "    </tr>\n",
       "  </tbody>\n",
       "</table>\n",
       "</div>"
      ],
      "text/plain": [
       "   trip_distance  fare_amount  extra  mta_tax  tip_amount  tolls_amount  \\\n",
       "0           6.99        28.90    1.0      0.5        0.00          0.00   \n",
       "1           6.60        30.30    1.0      0.5        5.00          0.00   \n",
       "2           1.34         9.30    1.0      0.5        2.36          0.00   \n",
       "3           7.79        22.73    0.0      0.0        2.29          6.55   \n",
       "4           0.70         6.50    1.0      0.5        0.00          0.00   \n",
       "\n",
       "   improvement_surcharge  congestion_surcharge  trip_duration  \n",
       "0                    1.0                  0.00      13.266667  \n",
       "1                    1.0                  2.75      20.366667  \n",
       "2                    1.0                  0.00       6.883333  \n",
       "3                    1.0                  0.00      20.450000  \n",
       "4                    1.0                  0.00       3.466667  "
      ]
     },
     "execution_count": 81,
     "metadata": {},
     "output_type": "execute_result"
    }
   ],
   "source": [
    "numcols.head()"
   ]
  },
  {
   "cell_type": "code",
   "execution_count": 82,
   "id": "83e698a8",
   "metadata": {
    "scrolled": true
   },
   "outputs": [
    {
     "data": {
      "text/html": [
       "<div>\n",
       "<style scoped>\n",
       "    .dataframe tbody tr th:only-of-type {\n",
       "        vertical-align: middle;\n",
       "    }\n",
       "\n",
       "    .dataframe tbody tr th {\n",
       "        vertical-align: top;\n",
       "    }\n",
       "\n",
       "    .dataframe thead th {\n",
       "        text-align: right;\n",
       "    }\n",
       "</style>\n",
       "<table border=\"1\" class=\"dataframe\">\n",
       "  <thead>\n",
       "    <tr style=\"text-align: right;\">\n",
       "      <th></th>\n",
       "      <th>store_and_fwd_flag</th>\n",
       "      <th>RatecodeID</th>\n",
       "      <th>passenger_count</th>\n",
       "      <th>payment_type</th>\n",
       "      <th>trip_type</th>\n",
       "      <th>weekday</th>\n",
       "      <th>hourofday</th>\n",
       "    </tr>\n",
       "  </thead>\n",
       "  <tbody>\n",
       "    <tr>\n",
       "      <th>0</th>\n",
       "      <td>N</td>\n",
       "      <td>1.0</td>\n",
       "      <td>1.0</td>\n",
       "      <td>1.0</td>\n",
       "      <td>1.0</td>\n",
       "      <td>0</td>\n",
       "      <td>1</td>\n",
       "    </tr>\n",
       "    <tr>\n",
       "      <th>1</th>\n",
       "      <td>N</td>\n",
       "      <td>1.0</td>\n",
       "      <td>1.0</td>\n",
       "      <td>1.0</td>\n",
       "      <td>1.0</td>\n",
       "      <td>0</td>\n",
       "      <td>0</td>\n",
       "    </tr>\n",
       "    <tr>\n",
       "      <th>2</th>\n",
       "      <td>N</td>\n",
       "      <td>1.0</td>\n",
       "      <td>1.0</td>\n",
       "      <td>1.0</td>\n",
       "      <td>1.0</td>\n",
       "      <td>0</td>\n",
       "      <td>0</td>\n",
       "    </tr>\n",
       "    <tr>\n",
       "      <th>3</th>\n",
       "      <td>N</td>\n",
       "      <td>5.0</td>\n",
       "      <td>1.0</td>\n",
       "      <td>1.0</td>\n",
       "      <td>1.0</td>\n",
       "      <td>0</td>\n",
       "      <td>0</td>\n",
       "    </tr>\n",
       "    <tr>\n",
       "      <th>4</th>\n",
       "      <td>N</td>\n",
       "      <td>1.0</td>\n",
       "      <td>1.0</td>\n",
       "      <td>2.0</td>\n",
       "      <td>1.0</td>\n",
       "      <td>0</td>\n",
       "      <td>0</td>\n",
       "    </tr>\n",
       "  </tbody>\n",
       "</table>\n",
       "</div>"
      ],
      "text/plain": [
       "  store_and_fwd_flag  RatecodeID  passenger_count  payment_type  trip_type  \\\n",
       "0                  N         1.0              1.0           1.0        1.0   \n",
       "1                  N         1.0              1.0           1.0        1.0   \n",
       "2                  N         1.0              1.0           1.0        1.0   \n",
       "3                  N         5.0              1.0           1.0        1.0   \n",
       "4                  N         1.0              1.0           2.0        1.0   \n",
       "\n",
       "   weekday  hourofday  \n",
       "0        0          1  \n",
       "1        0          0  \n",
       "2        0          0  \n",
       "3        0          0  \n",
       "4        0          0  "
      ]
     },
     "execution_count": 82,
     "metadata": {},
     "output_type": "execute_result"
    }
   ],
   "source": [
    "objcols.head()"
   ]
  },
  {
   "cell_type": "markdown",
   "id": "5c64a89d",
   "metadata": {},
   "source": [
    "# Dummy Encoding"
   ]
  },
  {
   "cell_type": "code",
   "execution_count": 83,
   "id": "b51a715b",
   "metadata": {},
   "outputs": [],
   "source": [
    "obj_dummies=pd.get_dummies(objcols,columns=['store_and_fwd_flag','RatecodeID','passenger_count','payment_type',\n",
    "                                            'trip_type','weekday','hourofday'])"
   ]
  },
  {
   "cell_type": "code",
   "execution_count": 84,
   "id": "15a8e3ac",
   "metadata": {},
   "outputs": [
    {
     "data": {
      "text/html": [
       "<div>\n",
       "<style scoped>\n",
       "    .dataframe tbody tr th:only-of-type {\n",
       "        vertical-align: middle;\n",
       "    }\n",
       "\n",
       "    .dataframe tbody tr th {\n",
       "        vertical-align: top;\n",
       "    }\n",
       "\n",
       "    .dataframe thead th {\n",
       "        text-align: right;\n",
       "    }\n",
       "</style>\n",
       "<table border=\"1\" class=\"dataframe\">\n",
       "  <thead>\n",
       "    <tr style=\"text-align: right;\">\n",
       "      <th></th>\n",
       "      <th>store_and_fwd_flag_N</th>\n",
       "      <th>store_and_fwd_flag_Y</th>\n",
       "      <th>RatecodeID_1.0</th>\n",
       "      <th>RatecodeID_2.0</th>\n",
       "      <th>RatecodeID_3.0</th>\n",
       "      <th>RatecodeID_4.0</th>\n",
       "      <th>RatecodeID_5.0</th>\n",
       "      <th>RatecodeID_99.0</th>\n",
       "      <th>passenger_count_0.0</th>\n",
       "      <th>passenger_count_1.0</th>\n",
       "      <th>...</th>\n",
       "      <th>hourofday_14</th>\n",
       "      <th>hourofday_15</th>\n",
       "      <th>hourofday_16</th>\n",
       "      <th>hourofday_17</th>\n",
       "      <th>hourofday_18</th>\n",
       "      <th>hourofday_19</th>\n",
       "      <th>hourofday_20</th>\n",
       "      <th>hourofday_21</th>\n",
       "      <th>hourofday_22</th>\n",
       "      <th>hourofday_23</th>\n",
       "    </tr>\n",
       "  </thead>\n",
       "  <tbody>\n",
       "    <tr>\n",
       "      <th>0</th>\n",
       "      <td>True</td>\n",
       "      <td>False</td>\n",
       "      <td>True</td>\n",
       "      <td>False</td>\n",
       "      <td>False</td>\n",
       "      <td>False</td>\n",
       "      <td>False</td>\n",
       "      <td>False</td>\n",
       "      <td>False</td>\n",
       "      <td>True</td>\n",
       "      <td>...</td>\n",
       "      <td>False</td>\n",
       "      <td>False</td>\n",
       "      <td>False</td>\n",
       "      <td>False</td>\n",
       "      <td>False</td>\n",
       "      <td>False</td>\n",
       "      <td>False</td>\n",
       "      <td>False</td>\n",
       "      <td>False</td>\n",
       "      <td>False</td>\n",
       "    </tr>\n",
       "    <tr>\n",
       "      <th>1</th>\n",
       "      <td>True</td>\n",
       "      <td>False</td>\n",
       "      <td>True</td>\n",
       "      <td>False</td>\n",
       "      <td>False</td>\n",
       "      <td>False</td>\n",
       "      <td>False</td>\n",
       "      <td>False</td>\n",
       "      <td>False</td>\n",
       "      <td>True</td>\n",
       "      <td>...</td>\n",
       "      <td>False</td>\n",
       "      <td>False</td>\n",
       "      <td>False</td>\n",
       "      <td>False</td>\n",
       "      <td>False</td>\n",
       "      <td>False</td>\n",
       "      <td>False</td>\n",
       "      <td>False</td>\n",
       "      <td>False</td>\n",
       "      <td>False</td>\n",
       "    </tr>\n",
       "    <tr>\n",
       "      <th>2</th>\n",
       "      <td>True</td>\n",
       "      <td>False</td>\n",
       "      <td>True</td>\n",
       "      <td>False</td>\n",
       "      <td>False</td>\n",
       "      <td>False</td>\n",
       "      <td>False</td>\n",
       "      <td>False</td>\n",
       "      <td>False</td>\n",
       "      <td>True</td>\n",
       "      <td>...</td>\n",
       "      <td>False</td>\n",
       "      <td>False</td>\n",
       "      <td>False</td>\n",
       "      <td>False</td>\n",
       "      <td>False</td>\n",
       "      <td>False</td>\n",
       "      <td>False</td>\n",
       "      <td>False</td>\n",
       "      <td>False</td>\n",
       "      <td>False</td>\n",
       "    </tr>\n",
       "    <tr>\n",
       "      <th>3</th>\n",
       "      <td>True</td>\n",
       "      <td>False</td>\n",
       "      <td>False</td>\n",
       "      <td>False</td>\n",
       "      <td>False</td>\n",
       "      <td>False</td>\n",
       "      <td>True</td>\n",
       "      <td>False</td>\n",
       "      <td>False</td>\n",
       "      <td>True</td>\n",
       "      <td>...</td>\n",
       "      <td>False</td>\n",
       "      <td>False</td>\n",
       "      <td>False</td>\n",
       "      <td>False</td>\n",
       "      <td>False</td>\n",
       "      <td>False</td>\n",
       "      <td>False</td>\n",
       "      <td>False</td>\n",
       "      <td>False</td>\n",
       "      <td>False</td>\n",
       "    </tr>\n",
       "    <tr>\n",
       "      <th>4</th>\n",
       "      <td>True</td>\n",
       "      <td>False</td>\n",
       "      <td>True</td>\n",
       "      <td>False</td>\n",
       "      <td>False</td>\n",
       "      <td>False</td>\n",
       "      <td>False</td>\n",
       "      <td>False</td>\n",
       "      <td>False</td>\n",
       "      <td>True</td>\n",
       "      <td>...</td>\n",
       "      <td>False</td>\n",
       "      <td>False</td>\n",
       "      <td>False</td>\n",
       "      <td>False</td>\n",
       "      <td>False</td>\n",
       "      <td>False</td>\n",
       "      <td>False</td>\n",
       "      <td>False</td>\n",
       "      <td>False</td>\n",
       "      <td>False</td>\n",
       "    </tr>\n",
       "  </tbody>\n",
       "</table>\n",
       "<p>5 rows × 56 columns</p>\n",
       "</div>"
      ],
      "text/plain": [
       "   store_and_fwd_flag_N  store_and_fwd_flag_Y  RatecodeID_1.0  RatecodeID_2.0  \\\n",
       "0                  True                 False            True           False   \n",
       "1                  True                 False            True           False   \n",
       "2                  True                 False            True           False   \n",
       "3                  True                 False           False           False   \n",
       "4                  True                 False            True           False   \n",
       "\n",
       "   RatecodeID_3.0  RatecodeID_4.0  RatecodeID_5.0  RatecodeID_99.0  \\\n",
       "0           False           False           False            False   \n",
       "1           False           False           False            False   \n",
       "2           False           False           False            False   \n",
       "3           False           False            True            False   \n",
       "4           False           False           False            False   \n",
       "\n",
       "   passenger_count_0.0  passenger_count_1.0  ...  hourofday_14  hourofday_15  \\\n",
       "0                False                 True  ...         False         False   \n",
       "1                False                 True  ...         False         False   \n",
       "2                False                 True  ...         False         False   \n",
       "3                False                 True  ...         False         False   \n",
       "4                False                 True  ...         False         False   \n",
       "\n",
       "   hourofday_16  hourofday_17  hourofday_18  hourofday_19  hourofday_20  \\\n",
       "0         False         False         False         False         False   \n",
       "1         False         False         False         False         False   \n",
       "2         False         False         False         False         False   \n",
       "3         False         False         False         False         False   \n",
       "4         False         False         False         False         False   \n",
       "\n",
       "   hourofday_21  hourofday_22  hourofday_23  \n",
       "0         False         False         False  \n",
       "1         False         False         False  \n",
       "2         False         False         False  \n",
       "3         False         False         False  \n",
       "4         False         False         False  \n",
       "\n",
       "[5 rows x 56 columns]"
      ]
     },
     "execution_count": 84,
     "metadata": {},
     "output_type": "execute_result"
    }
   ],
   "source": [
    "obj_dummies.head()"
   ]
  },
  {
   "cell_type": "code",
   "execution_count": 85,
   "id": "7967e974",
   "metadata": {},
   "outputs": [],
   "source": [
    "obj_dummies.replace({False:0,True:1},inplace=True)"
   ]
  },
  {
   "cell_type": "code",
   "execution_count": 86,
   "id": "a8d4ca16",
   "metadata": {},
   "outputs": [
    {
     "data": {
      "text/html": [
       "<div>\n",
       "<style scoped>\n",
       "    .dataframe tbody tr th:only-of-type {\n",
       "        vertical-align: middle;\n",
       "    }\n",
       "\n",
       "    .dataframe tbody tr th {\n",
       "        vertical-align: top;\n",
       "    }\n",
       "\n",
       "    .dataframe thead th {\n",
       "        text-align: right;\n",
       "    }\n",
       "</style>\n",
       "<table border=\"1\" class=\"dataframe\">\n",
       "  <thead>\n",
       "    <tr style=\"text-align: right;\">\n",
       "      <th></th>\n",
       "      <th>store_and_fwd_flag_N</th>\n",
       "      <th>store_and_fwd_flag_Y</th>\n",
       "      <th>RatecodeID_1.0</th>\n",
       "      <th>RatecodeID_2.0</th>\n",
       "      <th>RatecodeID_3.0</th>\n",
       "      <th>RatecodeID_4.0</th>\n",
       "      <th>RatecodeID_5.0</th>\n",
       "      <th>RatecodeID_99.0</th>\n",
       "      <th>passenger_count_0.0</th>\n",
       "      <th>passenger_count_1.0</th>\n",
       "      <th>...</th>\n",
       "      <th>hourofday_14</th>\n",
       "      <th>hourofday_15</th>\n",
       "      <th>hourofday_16</th>\n",
       "      <th>hourofday_17</th>\n",
       "      <th>hourofday_18</th>\n",
       "      <th>hourofday_19</th>\n",
       "      <th>hourofday_20</th>\n",
       "      <th>hourofday_21</th>\n",
       "      <th>hourofday_22</th>\n",
       "      <th>hourofday_23</th>\n",
       "    </tr>\n",
       "  </thead>\n",
       "  <tbody>\n",
       "    <tr>\n",
       "      <th>0</th>\n",
       "      <td>1</td>\n",
       "      <td>0</td>\n",
       "      <td>1</td>\n",
       "      <td>0</td>\n",
       "      <td>0</td>\n",
       "      <td>0</td>\n",
       "      <td>0</td>\n",
       "      <td>0</td>\n",
       "      <td>0</td>\n",
       "      <td>1</td>\n",
       "      <td>...</td>\n",
       "      <td>0</td>\n",
       "      <td>0</td>\n",
       "      <td>0</td>\n",
       "      <td>0</td>\n",
       "      <td>0</td>\n",
       "      <td>0</td>\n",
       "      <td>0</td>\n",
       "      <td>0</td>\n",
       "      <td>0</td>\n",
       "      <td>0</td>\n",
       "    </tr>\n",
       "    <tr>\n",
       "      <th>1</th>\n",
       "      <td>1</td>\n",
       "      <td>0</td>\n",
       "      <td>1</td>\n",
       "      <td>0</td>\n",
       "      <td>0</td>\n",
       "      <td>0</td>\n",
       "      <td>0</td>\n",
       "      <td>0</td>\n",
       "      <td>0</td>\n",
       "      <td>1</td>\n",
       "      <td>...</td>\n",
       "      <td>0</td>\n",
       "      <td>0</td>\n",
       "      <td>0</td>\n",
       "      <td>0</td>\n",
       "      <td>0</td>\n",
       "      <td>0</td>\n",
       "      <td>0</td>\n",
       "      <td>0</td>\n",
       "      <td>0</td>\n",
       "      <td>0</td>\n",
       "    </tr>\n",
       "    <tr>\n",
       "      <th>2</th>\n",
       "      <td>1</td>\n",
       "      <td>0</td>\n",
       "      <td>1</td>\n",
       "      <td>0</td>\n",
       "      <td>0</td>\n",
       "      <td>0</td>\n",
       "      <td>0</td>\n",
       "      <td>0</td>\n",
       "      <td>0</td>\n",
       "      <td>1</td>\n",
       "      <td>...</td>\n",
       "      <td>0</td>\n",
       "      <td>0</td>\n",
       "      <td>0</td>\n",
       "      <td>0</td>\n",
       "      <td>0</td>\n",
       "      <td>0</td>\n",
       "      <td>0</td>\n",
       "      <td>0</td>\n",
       "      <td>0</td>\n",
       "      <td>0</td>\n",
       "    </tr>\n",
       "    <tr>\n",
       "      <th>3</th>\n",
       "      <td>1</td>\n",
       "      <td>0</td>\n",
       "      <td>0</td>\n",
       "      <td>0</td>\n",
       "      <td>0</td>\n",
       "      <td>0</td>\n",
       "      <td>1</td>\n",
       "      <td>0</td>\n",
       "      <td>0</td>\n",
       "      <td>1</td>\n",
       "      <td>...</td>\n",
       "      <td>0</td>\n",
       "      <td>0</td>\n",
       "      <td>0</td>\n",
       "      <td>0</td>\n",
       "      <td>0</td>\n",
       "      <td>0</td>\n",
       "      <td>0</td>\n",
       "      <td>0</td>\n",
       "      <td>0</td>\n",
       "      <td>0</td>\n",
       "    </tr>\n",
       "    <tr>\n",
       "      <th>4</th>\n",
       "      <td>1</td>\n",
       "      <td>0</td>\n",
       "      <td>1</td>\n",
       "      <td>0</td>\n",
       "      <td>0</td>\n",
       "      <td>0</td>\n",
       "      <td>0</td>\n",
       "      <td>0</td>\n",
       "      <td>0</td>\n",
       "      <td>1</td>\n",
       "      <td>...</td>\n",
       "      <td>0</td>\n",
       "      <td>0</td>\n",
       "      <td>0</td>\n",
       "      <td>0</td>\n",
       "      <td>0</td>\n",
       "      <td>0</td>\n",
       "      <td>0</td>\n",
       "      <td>0</td>\n",
       "      <td>0</td>\n",
       "      <td>0</td>\n",
       "    </tr>\n",
       "  </tbody>\n",
       "</table>\n",
       "<p>5 rows × 56 columns</p>\n",
       "</div>"
      ],
      "text/plain": [
       "   store_and_fwd_flag_N  store_and_fwd_flag_Y  RatecodeID_1.0  RatecodeID_2.0  \\\n",
       "0                     1                     0               1               0   \n",
       "1                     1                     0               1               0   \n",
       "2                     1                     0               1               0   \n",
       "3                     1                     0               0               0   \n",
       "4                     1                     0               1               0   \n",
       "\n",
       "   RatecodeID_3.0  RatecodeID_4.0  RatecodeID_5.0  RatecodeID_99.0  \\\n",
       "0               0               0               0                0   \n",
       "1               0               0               0                0   \n",
       "2               0               0               0                0   \n",
       "3               0               0               1                0   \n",
       "4               0               0               0                0   \n",
       "\n",
       "   passenger_count_0.0  passenger_count_1.0  ...  hourofday_14  hourofday_15  \\\n",
       "0                    0                    1  ...             0             0   \n",
       "1                    0                    1  ...             0             0   \n",
       "2                    0                    1  ...             0             0   \n",
       "3                    0                    1  ...             0             0   \n",
       "4                    0                    1  ...             0             0   \n",
       "\n",
       "   hourofday_16  hourofday_17  hourofday_18  hourofday_19  hourofday_20  \\\n",
       "0             0             0             0             0             0   \n",
       "1             0             0             0             0             0   \n",
       "2             0             0             0             0             0   \n",
       "3             0             0             0             0             0   \n",
       "4             0             0             0             0             0   \n",
       "\n",
       "   hourofday_21  hourofday_22  hourofday_23  \n",
       "0             0             0             0  \n",
       "1             0             0             0  \n",
       "2             0             0             0  \n",
       "3             0             0             0  \n",
       "4             0             0             0  \n",
       "\n",
       "[5 rows x 56 columns]"
      ]
     },
     "execution_count": 86,
     "metadata": {},
     "output_type": "execute_result"
    }
   ],
   "source": [
    "obj_dummies.head()"
   ]
  },
  {
   "cell_type": "code",
   "execution_count": 87,
   "id": "cef58abd",
   "metadata": {},
   "outputs": [],
   "source": [
    "X=pd.concat([numcols,obj_dummies],axis=1)\n",
    "y=greentaxi.total_amount"
   ]
  },
  {
   "cell_type": "code",
   "execution_count": 88,
   "id": "a255cd59",
   "metadata": {},
   "outputs": [
    {
     "data": {
      "text/plain": [
       "<Axes: xlabel='total_amount', ylabel='Count'>"
      ]
     },
     "execution_count": 88,
     "metadata": {},
     "output_type": "execute_result"
    },
    {
     "data": {
      "text/plain": [
       "<Figure size 3000x1500 with 0 Axes>"
      ]
     },
     "metadata": {},
     "output_type": "display_data"
    },
    {
     "data": {
      "image/png": "[encoded data removed]",
      "text/plain": [
       "<Figure size 640x480 with 3 Axes>"
      ]
     },
     "metadata": {},
     "output_type": "display_data"
    }
   ],
   "source": [
    "#hist,box,&density curve-y\n",
    "#By this we will check the Skewness and Kurtosis\n",
    "plt.figure(figsize=(30,15))\n",
    "fig,ax=plt.subplots(3,1)\n",
    "sns.kdeplot(y,ax=ax[0])\n",
    "sns.boxplot(y,orient='h',ax=ax[1])\n",
    "sns.histplot(y,ax=ax[2])"
   ]
  },
  {
   "cell_type": "code",
   "execution_count": 89,
   "id": "38e443ed",
   "metadata": {},
   "outputs": [
    {
     "data": {
      "text/plain": [
       "<Axes: ylabel='Density'>"
      ]
     },
     "execution_count": 89,
     "metadata": {},
     "output_type": "execute_result"
    },
    {
     "data": {
      "image/png": "[encoded data removed]",
      "text/plain": [
       "<Figure size 640x480 with 1 Axes>"
      ]
     },
     "metadata": {},
     "output_type": "display_data"
    }
   ],
   "source": [
    "y.plot(kind='density')"
   ]
  },
  {
   "cell_type": "code",
   "execution_count": 90,
   "id": "2b9fec71",
   "metadata": {},
   "outputs": [
    {
     "name": "stderr",
     "output_type": "stream",
     "text": [
      "C:\\Users\\HP\\anaconda3\\Lib\\site-packages\\pandas\\core\\arraylike.py:396: RuntimeWarning: divide by zero encountered in log\n",
      "  result = getattr(ufunc, method)(*inputs, **kwargs)\n",
      "C:\\Users\\HP\\anaconda3\\Lib\\site-packages\\pandas\\core\\arraylike.py:396: RuntimeWarning: invalid value encountered in log\n",
      "  result = getattr(ufunc, method)(*inputs, **kwargs)\n",
      "C:\\Users\\HP\\anaconda3\\Lib\\site-packages\\pandas\\core\\arraylike.py:396: RuntimeWarning: divide by zero encountered in log\n",
      "  result = getattr(ufunc, method)(*inputs, **kwargs)\n",
      "C:\\Users\\HP\\anaconda3\\Lib\\site-packages\\pandas\\core\\arraylike.py:396: RuntimeWarning: invalid value encountered in log\n",
      "  result = getattr(ufunc, method)(*inputs, **kwargs)\n",
      "C:\\Users\\HP\\anaconda3\\Lib\\site-packages\\pandas\\core\\arraylike.py:396: RuntimeWarning: divide by zero encountered in log\n",
      "  result = getattr(ufunc, method)(*inputs, **kwargs)\n",
      "C:\\Users\\HP\\anaconda3\\Lib\\site-packages\\pandas\\core\\arraylike.py:396: RuntimeWarning: invalid value encountered in log\n",
      "  result = getattr(ufunc, method)(*inputs, **kwargs)\n"
     ]
    },
    {
     "data": {
      "text/plain": [
       "<Axes: xlabel='total_amount', ylabel='Count'>"
      ]
     },
     "execution_count": 90,
     "metadata": {},
     "output_type": "execute_result"
    },
    {
     "data": {
      "text/plain": [
       "<Figure size 3000x1500 with 0 Axes>"
      ]
     },
     "metadata": {},
     "output_type": "display_data"
    },
    {
     "data": {
      "image/png": "[encoded data removed]",
      "text/plain": [
       "<Figure size 640x480 with 3 Axes>"
      ]
     },
     "metadata": {},
     "output_type": "display_data"
    }
   ],
   "source": [
    "#hist,box,&density curve-y\n",
    "plt.figure(figsize=(30,15))\n",
    "fig,ax=plt.subplots(3,1)\n",
    "sns.kdeplot(np.log(y),ax=ax[0])\n",
    "sns.boxplot(np.log(y),orient='h',ax=ax[1])\n",
    "sns.histplot(np.log(y),ax=ax[2])\n",
    "#logarithm transformation"
   ]
  },
  {
   "cell_type": "code",
   "execution_count": 91,
   "id": "2bc22b67",
   "metadata": {},
   "outputs": [
    {
     "data": {
      "text/plain": [
       "<Axes: >"
      ]
     },
     "execution_count": 91,
     "metadata": {},
     "output_type": "execute_result"
    },
    {
     "data": {
      "image/png": "[encoded data removed]",
      "text/plain": [
       "<Figure size 2000x1000 with 2 Axes>"
      ]
     },
     "metadata": {},
     "output_type": "display_data"
    }
   ],
   "source": [
    "#with th help of Heat map we can know the Multycollinaerity amoung the variables\n",
    "plt.figure(figsize=(20,10))\n",
    "sns.heatmap(numcols.corr(),annot=True)"
   ]
  },
  {
   "cell_type": "code",
   "execution_count": 173,
   "id": "b6195c4a",
   "metadata": {},
   "outputs": [],
   "source": [
    "numericcols2=numcols"
   ]
  },
  {
   "cell_type": "code",
   "execution_count": 174,
   "id": "17b90355",
   "metadata": {},
   "outputs": [
    {
     "name": "stderr",
     "output_type": "stream",
     "text": [
      "C:\\Users\\HP\\AppData\\Local\\Temp\\ipykernel_11160\\3306182408.py:1: SettingWithCopyWarning: \n",
      "A value is trying to be set on a copy of a slice from a DataFrame.\n",
      "Try using .loc[row_indexer,col_indexer] = value instead\n",
      "\n",
      "See the caveats in the documentation: https://pandas.pydata.org/pandas-docs/stable/user_guide/indexing.html#returning-a-view-versus-a-copy\n",
      "  numericcols2['total_amount']=greentaxi.total_amount\n"
     ]
    }
   ],
   "source": [
    "numericcols2['total_amount']=greentaxi.total_amount"
   ]
  },
  {
   "cell_type": "code",
   "execution_count": 175,
   "id": "81c4c118",
   "metadata": {},
   "outputs": [
    {
     "data": {
      "text/plain": [
       "<Axes: >"
      ]
     },
     "execution_count": 175,
     "metadata": {},
     "output_type": "execute_result"
    },
    {
     "data": {
      "image/png": "[encoded data removed]",
      "text/plain": [
       "<Figure size 2000x1000 with 2 Axes>"
      ]
     },
     "metadata": {},
     "output_type": "display_data"
    }
   ],
   "source": [
    "plt.figure(figsize=(20,10))\n",
    "sns.heatmap(numericcols2.corr(),annot=True)"
   ]
  },
  {
   "cell_type": "code",
   "execution_count": 92,
   "id": "38314f2f",
   "metadata": {},
   "outputs": [],
   "source": [
    "X=X.drop('fare_amount',axis=1)"
   ]
  },
  {
   "cell_type": "markdown",
   "id": "e7329f1f",
   "metadata": {},
   "source": [
    "# Model Building"
   ]
  },
  {
   "cell_type": "markdown",
   "id": "af2dd4bf",
   "metadata": {},
   "source": [
    "# Linear Regression"
   ]
  },
  {
   "cell_type": "code",
   "execution_count": 93,
   "id": "ba829ef8",
   "metadata": {},
   "outputs": [],
   "source": [
    "from sklearn.linear_model import LinearRegression"
   ]
  },
  {
   "cell_type": "code",
   "execution_count": 94,
   "id": "c3392efc",
   "metadata": {},
   "outputs": [],
   "source": [
    "reg=LinearRegression()"
   ]
  },
  {
   "cell_type": "code",
   "execution_count": 95,
   "id": "ba91edf6",
   "metadata": {},
   "outputs": [],
   "source": [
    "regmodel=reg.fit(X,y)"
   ]
  },
  {
   "cell_type": "code",
   "execution_count": 96,
   "id": "f56969dc",
   "metadata": {},
   "outputs": [
    {
     "data": {
      "text/plain": [
       "0.46153609909092563"
      ]
     },
     "execution_count": 96,
     "metadata": {},
     "output_type": "execute_result"
    }
   ],
   "source": [
    "regmodel.score(X,y)"
   ]
  },
  {
   "cell_type": "code",
   "execution_count": 97,
   "id": "758117c0",
   "metadata": {},
   "outputs": [],
   "source": [
    "regpredict=regmodel.predict(X)"
   ]
  },
  {
   "cell_type": "code",
   "execution_count": 98,
   "id": "037613f8",
   "metadata": {},
   "outputs": [],
   "source": [
    "regresid=y-regpredict"
   ]
  },
  {
   "cell_type": "code",
   "execution_count": 99,
   "id": "9282596f",
   "metadata": {},
   "outputs": [
    {
     "data": {
      "text/plain": [
       "13.138104982545146"
      ]
     },
     "execution_count": 99,
     "metadata": {},
     "output_type": "execute_result"
    }
   ],
   "source": [
    "np.sqrt(np.mean(regresid**2))#RMSE"
   ]
  },
  {
   "cell_type": "markdown",
   "id": "93cafc5c",
   "metadata": {},
   "source": [
    "# Decision Tree"
   ]
  },
  {
   "cell_type": "code",
   "execution_count": 100,
   "id": "c5658da2",
   "metadata": {},
   "outputs": [],
   "source": [
    "from sklearn.tree import DecisionTreeRegressor"
   ]
  },
  {
   "cell_type": "code",
   "execution_count": 111,
   "id": "f94aaa9b",
   "metadata": {},
   "outputs": [],
   "source": [
    "tree=DecisionTreeRegressor(max_depth=7)"
   ]
  },
  {
   "cell_type": "code",
   "execution_count": 112,
   "id": "71753254",
   "metadata": {},
   "outputs": [],
   "source": [
    "treemodel=tree.fit(X,y)"
   ]
  },
  {
   "cell_type": "code",
   "execution_count": 113,
   "id": "6c176f02",
   "metadata": {},
   "outputs": [
    {
     "data": {
      "text/plain": [
       "0.8261999736172163"
      ]
     },
     "execution_count": 113,
     "metadata": {},
     "output_type": "execute_result"
    }
   ],
   "source": [
    "treemodel.score(X,y)"
   ]
  },
  {
   "cell_type": "code",
   "execution_count": 114,
   "id": "1bf62390",
   "metadata": {},
   "outputs": [],
   "source": [
    "treepredict=treemodel.predict(X)"
   ]
  },
  {
   "cell_type": "code",
   "execution_count": 115,
   "id": "74e6de72",
   "metadata": {},
   "outputs": [],
   "source": [
    "treeresid=y=treepredict"
   ]
  },
  {
   "cell_type": "code",
   "execution_count": 116,
   "id": "eaad0fa0",
   "metadata": {},
   "outputs": [
    {
     "data": {
      "text/plain": [
       "28.850404896280455"
      ]
     },
     "execution_count": 116,
     "metadata": {},
     "output_type": "execute_result"
    }
   ],
   "source": [
    "np.sqrt(np.mean(treeresid**2))#RMSE"
   ]
  },
  {
   "cell_type": "markdown",
   "id": "dd4aac91",
   "metadata": {},
   "source": [
    "# Random Forest"
   ]
  },
  {
   "cell_type": "code",
   "execution_count": 117,
   "id": "15761c85",
   "metadata": {},
   "outputs": [],
   "source": [
    "from sklearn.ensemble import RandomForestRegressor"
   ]
  },
  {
   "cell_type": "code",
   "execution_count": 182,
   "id": "f2af0d9f",
   "metadata": {},
   "outputs": [],
   "source": [
    "rf=RandomForestRegressor(n_estimators=100,max_depth=5)"
   ]
  },
  {
   "cell_type": "code",
   "execution_count": 183,
   "id": "865834f1",
   "metadata": {},
   "outputs": [],
   "source": [
    "rfmodel=rf.fit(X,y)"
   ]
  },
  {
   "cell_type": "code",
   "execution_count": 184,
   "id": "c4064ad9",
   "metadata": {},
   "outputs": [
    {
     "data": {
      "text/plain": [
       "0.9301837115451737"
      ]
     },
     "execution_count": 184,
     "metadata": {},
     "output_type": "execute_result"
    }
   ],
   "source": [
    "rfmodel.score(X,y)"
   ]
  },
  {
   "cell_type": "code",
   "execution_count": 185,
   "id": "5a318502",
   "metadata": {},
   "outputs": [],
   "source": [
    "rfpredict=rfmodel.predict(X)"
   ]
  },
  {
   "cell_type": "code",
   "execution_count": 186,
   "id": "8c02985d",
   "metadata": {},
   "outputs": [],
   "source": [
    "rfresid=y-rfpredict"
   ]
  },
  {
   "cell_type": "code",
   "execution_count": 187,
   "id": "4252a014",
   "metadata": {},
   "outputs": [
    {
     "data": {
      "text/plain": [
       "4.300068741561202"
      ]
     },
     "execution_count": 187,
     "metadata": {},
     "output_type": "execute_result"
    }
   ],
   "source": [
    "np.sqrt(np.mean(rfresid**2))"
   ]
  },
  {
   "cell_type": "markdown",
   "id": "b105e5fc",
   "metadata": {},
   "source": [
    "# Gradient Boosting"
   ]
  },
  {
   "cell_type": "code",
   "execution_count": 124,
   "id": "5cd7cf33",
   "metadata": {},
   "outputs": [],
   "source": [
    "from sklearn.ensemble import GradientBoostingRegressor"
   ]
  },
  {
   "cell_type": "code",
   "execution_count": 125,
   "id": "846dbd92",
   "metadata": {},
   "outputs": [],
   "source": [
    "gb=GradientBoostingRegressor(n_estimators=100,max_depth=1)"
   ]
  },
  {
   "cell_type": "code",
   "execution_count": 126,
   "id": "25beddd0",
   "metadata": {},
   "outputs": [],
   "source": [
    "gbmodel=gb.fit(X,y)"
   ]
  },
  {
   "cell_type": "code",
   "execution_count": 127,
   "id": "5ee499b1",
   "metadata": {},
   "outputs": [
    {
     "data": {
      "text/plain": [
       "0.8462969811924126"
      ]
     },
     "execution_count": 127,
     "metadata": {},
     "output_type": "execute_result"
    }
   ],
   "source": [
    "gbmodel.score(X,y)"
   ]
  },
  {
   "cell_type": "code",
   "execution_count": 128,
   "id": "6328b547",
   "metadata": {},
   "outputs": [],
   "source": [
    "gbpredict=gbmodel.predict(X)"
   ]
  },
  {
   "cell_type": "code",
   "execution_count": 129,
   "id": "13059ec2",
   "metadata": {},
   "outputs": [],
   "source": [
    "gbresid=y-gbpredict"
   ]
  },
  {
   "cell_type": "code",
   "execution_count": 130,
   "id": "a686ace1",
   "metadata": {},
   "outputs": [
    {
     "data": {
      "text/plain": [
       "6.3802576711148475"
      ]
     },
     "execution_count": 130,
     "metadata": {},
     "output_type": "execute_result"
    }
   ],
   "source": [
    "np.sqrt(np.mean(gbresid**2))# RMSE"
   ]
  },
  {
   "cell_type": "markdown",
   "id": "d50eba98",
   "metadata": {},
   "source": [
    "# Support Vector Machine (SVM)"
   ]
  },
  {
   "cell_type": "code",
   "execution_count": 156,
   "id": "43b57d6d",
   "metadata": {},
   "outputs": [],
   "source": [
    "from sklearn.svm import SVR"
   ]
  },
  {
   "cell_type": "code",
   "execution_count": 157,
   "id": "8d27cf6b",
   "metadata": {},
   "outputs": [],
   "source": [
    "svm=SVR(C=6)"
   ]
  },
  {
   "cell_type": "code",
   "execution_count": 158,
   "id": "03642f32",
   "metadata": {},
   "outputs": [],
   "source": [
    "svmmodel=svm.fit(X,y)"
   ]
  },
  {
   "cell_type": "code",
   "execution_count": 159,
   "id": "3fddeef1",
   "metadata": {},
   "outputs": [
    {
     "data": {
      "text/plain": [
       "0.5379976038087095"
      ]
     },
     "execution_count": 159,
     "metadata": {},
     "output_type": "execute_result"
    }
   ],
   "source": [
    "svmmodel.score(X,y)"
   ]
  },
  {
   "cell_type": "code",
   "execution_count": 160,
   "id": "98a1261f",
   "metadata": {},
   "outputs": [],
   "source": [
    "svmpredict=svmmodel.predict(X)"
   ]
  },
  {
   "cell_type": "code",
   "execution_count": 161,
   "id": "0095cf68",
   "metadata": {},
   "outputs": [],
   "source": [
    "svresid=y-svmpredict"
   ]
  },
  {
   "cell_type": "code",
   "execution_count": 162,
   "id": "9b753b58",
   "metadata": {},
   "outputs": [
    {
     "data": {
      "text/plain": [
       "11.06163015347371"
      ]
     },
     "execution_count": 162,
     "metadata": {},
     "output_type": "execute_result"
    }
   ],
   "source": [
    "np.sqrt(np.mean(svresid**2))#RMSE"
   ]
  },
  {
   "cell_type": "markdown",
   "id": "398f0416",
   "metadata": {},
   "source": [
    "# KNN"
   ]
  },
  {
   "cell_type": "code",
   "execution_count": 131,
   "id": "9c9fba6c",
   "metadata": {},
   "outputs": [],
   "source": [
    "from sklearn.neighbors import KNeighborsRegressor"
   ]
  },
  {
   "cell_type": "code",
   "execution_count": 150,
   "id": "136db080",
   "metadata": {},
   "outputs": [],
   "source": [
    "kn=KNeighborsRegressor(n_neighbors=6)"
   ]
  },
  {
   "cell_type": "code",
   "execution_count": 151,
   "id": "59ebb759",
   "metadata": {},
   "outputs": [],
   "source": [
    "knmodel=kn.fit(X,y)"
   ]
  },
  {
   "cell_type": "code",
   "execution_count": 152,
   "id": "342975e2",
   "metadata": {},
   "outputs": [
    {
     "data": {
      "text/plain": [
       "0.923554618881671"
      ]
     },
     "execution_count": 152,
     "metadata": {},
     "output_type": "execute_result"
    }
   ],
   "source": [
    "knmodel.score(X,y)"
   ]
  },
  {
   "cell_type": "code",
   "execution_count": 153,
   "id": "1fd94b55",
   "metadata": {},
   "outputs": [],
   "source": [
    "knpredict=knmodel.predict(X)"
   ]
  },
  {
   "cell_type": "code",
   "execution_count": 154,
   "id": "2b4a8cb4",
   "metadata": {},
   "outputs": [],
   "source": [
    "knid=y-knpredict"
   ]
  },
  {
   "cell_type": "code",
   "execution_count": 155,
   "id": "0b9b0f4e",
   "metadata": {},
   "outputs": [
    {
     "data": {
      "text/plain": [
       "4.4995869109458475"
      ]
     },
     "execution_count": 155,
     "metadata": {},
     "output_type": "execute_result"
    }
   ],
   "source": [
    "np.sqrt(np.mean(knid**2))#RMSE"
   ]
  },
  {
   "cell_type": "markdown",
   "id": "17593285",
   "metadata": {},
   "source": [
    "# Linear Regression:\n",
    "\n",
    "R-squared: 0.4615\n",
    "RMSE: 13.14\n",
    "# Decision Tree Regression:\n",
    "\n",
    "R-squared: 0.8262\n",
    "RMSE: 28.85\n",
    "# Random Forest Regression:\n",
    "\n",
    "R-squared: 0.9302\n",
    "RMSE: 4.30\n",
    "# Gradient Boosting Regression:\n",
    "\n",
    "R-squared: 0.8463\n",
    "RMSE: 6.38\n",
    "# Support Vector Regressor:\n",
    "\n",
    "R-squared: 0.5380\n",
    "RMSE: 11.06\n",
    "# K-Nearest Neighbors Regression:\n",
    "\n",
    "R-squared: 0.9236\n",
    "RMSE: 4.50\n"
   ]
  },
  {
   "cell_type": "markdown",
   "id": "c53db514",
   "metadata": {},
   "source": [
    "# Summary:\n",
    "\n",
    "Among the models you've evaluated, the Random Forest Regression model stands out as the best performer. It has the highest R-squared value (0.9302), indicating that it explains a significant portion of the variance in the total fare amounts. Additionally, it has the lowest RMSE (4.30), which means it has the smallest average prediction error in terms of fare amounts.\n",
    "\n",
    "The K-Nearest Neighbors (KNN) Regression model also performs very well with a high R-squared value (0.9236) and a low RMSE (4.50). It is a strong contender for the best-fit model.\n",
    "\n",
    "The Decision Tree and Gradient Boosting models have decent R-squared values and perform reasonably well, but they have higher RMSE values compared to the Random Forest and KNN models.\n",
    "\n",
    "The Linear Regression and Support Vector Regressor models have relatively lower R-squared values and higher RMSE values, indicating that they may not explain the variance in fare amounts as well as the other models.\n",
    "\n",
    "# Best Fit Model:\n",
    "Based on the provided performance metrics, the Random Forest Regression model appears to be the best fit for your taxi fare prediction task. It has the highest R-squared value and the lowest RMSE, indicating its ability to provide accurate predictions and explain a significant portion of the variance in fare amounts. However, it's also a good practice to consider other factors, such as model interpretability and computational complexity, when selecting the final model for deployment."
   ]
  }
 ],
 "metadata": {
  "kernelspec": {
   "display_name": "Python 3 (ipykernel)",
   "language": "python",
   "name": "python3"
  },
  "language_info": {
   "codemirror_mode": {
    "name": "ipython",
    "version": 3
   },
   "file_extension": ".py",
   "mimetype": "text/x-python",
   "name": "python",
   "nbconvert_exporter": "python",
   "pygments_lexer": "ipython3",
   "version": "3.11.5"
  }
 },
 "nbformat": 4,
 "nbformat_minor": 5
}
